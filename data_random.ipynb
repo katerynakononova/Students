{
 "cells": [
  {
   "cell_type": "markdown",
   "metadata": {},
   "source": [
    "# Data Preprocessing"
   ]
  },
  {
   "cell_type": "code",
   "execution_count": 78,
   "metadata": {},
   "outputs": [],
   "source": [
    "# Importing the libraries\n",
    "import numpy as np\n",
    "import matplotlib.pyplot as plt\n",
    "import pandas as pd\n",
    "import seaborn as sns"
   ]
  },
  {
   "cell_type": "code",
   "execution_count": 79,
   "metadata": {},
   "outputs": [],
   "source": [
    "train = pd.read_csv('train_1.csv', sep=';')\n",
    "test = pd.read_csv('test_1.csv', sep=';')"
   ]
  },
  {
   "cell_type": "code",
   "execution_count": 80,
   "metadata": {},
   "outputs": [
    {
     "data": {
      "image/png": "[encoded data removed]",
      "text/plain": [
       "<Figure size 432x288 with 1 Axes>"
      ]
     },
     "metadata": {
      "needs_background": "light"
     },
     "output_type": "display_data"
    }
   ],
   "source": [
    "train['fraud_reported'].value_counts().plot(kind='bar', title= 'fraud_reported');"
   ]
  },
  {
   "cell_type": "code",
   "execution_count": 81,
   "metadata": {},
   "outputs": [],
   "source": [
    "# Class count\n",
    "count_class_0, count_class_1 = train.fraud_reported.value_counts()\n",
    "\n",
    "# Divide by class\n",
    "class_0 = train[train['fraud_reported'] == 0]\n",
    "class_1 = train[train['fraud_reported'] == 1]"
   ]
  },
  {
   "cell_type": "code",
   "execution_count": 82,
   "metadata": {},
   "outputs": [
    {
     "name": "stdout",
     "output_type": "stream",
     "text": [
      "Random over-sampling:\n",
      "1    525\n",
      "0    525\n",
      "Name: fraud_reported, dtype: int64\n"
     ]
    },
    {
     "data": {
      "image/png": "[encoded data removed]",
      "text/plain": [
       "<Figure size 432x288 with 1 Axes>"
      ]
     },
     "metadata": {
      "needs_background": "light"
     },
     "output_type": "display_data"
    }
   ],
   "source": [
    "class_1_over = class_1.sample(count_class_0, replace=True)\n",
    "test_over = pd.concat([class_0, class_1_over], axis=0)\n",
    "print('Random over-sampling:')\n",
    "print(test_over.fraud_reported.value_counts())\n",
    "test_over.fraud_reported.value_counts().plot(kind='bar', title='Count (fraud_reported)');"
   ]
  },
  {
   "cell_type": "code",
   "execution_count": 83,
   "metadata": {},
   "outputs": [],
   "source": [
    "X_train = test_over.iloc[:, :-1].values \n",
    "X_test = test.iloc[:, :-1].values\n",
    "y_train = test_over.iloc[:, -1].values\n",
    "y_test = test.iloc[:, -1].values"
   ]
  },
  {
   "cell_type": "code",
   "execution_count": 84,
   "metadata": {},
   "outputs": [],
   "source": [
    "# Feature Scaling\n",
    "from sklearn.preprocessing import StandardScaler\n",
    "sc_X = StandardScaler().fit(X_train)\n",
    "X_train = sc_X.transform(X_train)\n",
    "X_test = sc_X.transform(X_test)"
   ]
  },
  {
   "cell_type": "markdown",
   "metadata": {},
   "source": [
    "# Logistic Regression"
   ]
  },
  {
   "cell_type": "markdown",
   "metadata": {},
   "source": [
    "Логистическая регрессия от всех переменных:"
   ]
  },
  {
   "cell_type": "code",
   "execution_count": 85,
   "metadata": {},
   "outputs": [],
   "source": [
    "# Fitting Logistic Regression to the Training set\n",
    "from sklearn.linear_model import LogisticRegression\n",
    "lr = LogisticRegression(random_state = 13).fit(X_train, y_train)"
   ]
  },
  {
   "cell_type": "code",
   "execution_count": 86,
   "metadata": {},
   "outputs": [
    {
     "data": {
      "text/plain": [
       "0.87"
      ]
     },
     "execution_count": 86,
     "metadata": {},
     "output_type": "execute_result"
    }
   ],
   "source": [
    "# Predicting the Test set results\n",
    "y_pred = lr.predict(X_test)\n",
    "lr.score(X_test,y_test)"
   ]
  },
  {
   "cell_type": "code",
   "execution_count": 87,
   "metadata": {},
   "outputs": [
    {
     "name": "stdout",
     "output_type": "stream",
     "text": [
      "[[196  32]\n",
      " [  7  65]]\n"
     ]
    }
   ],
   "source": [
    "# Making the Confusion Matrix\n",
    "from sklearn.metrics import confusion_matrix\n",
    "cm = confusion_matrix(y_test, y_pred)\n",
    "print(cm)"
   ]
  },
  {
   "cell_type": "code",
   "execution_count": 89,
   "metadata": {},
   "outputs": [
    {
     "data": {
      "text/plain": [
       "0.13"
      ]
     },
     "execution_count": 89,
     "metadata": {},
     "output_type": "execute_result"
    }
   ],
   "source": [
    "Error_rate = (7+32)/(300)\n",
    "Error_rate"
   ]
  },
  {
   "cell_type": "code",
   "execution_count": 90,
   "metadata": {},
   "outputs": [
    {
     "data": {
      "text/plain": [
       "0.9027777777777778"
      ]
     },
     "execution_count": 90,
     "metadata": {},
     "output_type": "execute_result"
    }
   ],
   "source": [
    "Se = 65/(65+7)\n",
    "Se"
   ]
  },
  {
   "cell_type": "code",
   "execution_count": 91,
   "metadata": {},
   "outputs": [
    {
     "data": {
      "text/plain": [
       "0.8596491228070176"
      ]
     },
     "execution_count": 91,
     "metadata": {},
     "output_type": "execute_result"
    }
   ],
   "source": [
    "Sp = 196/(196+32)\n",
    "Sp"
   ]
  },
  {
   "cell_type": "code",
   "execution_count": 92,
   "metadata": {},
   "outputs": [
    {
     "name": "stdout",
     "output_type": "stream",
     "text": [
      "LogisticRegression: ROC AUC=0.941\n"
     ]
    },
    {
     "data": {
      "image/png": "[encoded data removed]",
      "text/plain": [
       "<Figure size 432x288 with 1 Axes>"
      ]
     },
     "metadata": {
      "needs_background": "light"
     },
     "output_type": "display_data"
    }
   ],
   "source": [
    "import sklearn\n",
    "from sklearn.datasets import make_classification\n",
    "from sklearn.linear_model import LogisticRegression\n",
    "from sklearn.model_selection import train_test_split\n",
    "import sklearn.metrics as metrics\n",
    "from sklearn.metrics import roc_curve, auc\n",
    "from sklearn.metrics import roc_auc_score\n",
    "from matplotlib import pyplot as plt\n",
    "lr_probs = lr.predict_proba(X_test)\n",
    "# сохраняем вероятности только для положительного исхода\n",
    "lr_probs = lr_probs[:, 1]\n",
    "# рассчитываем ROC AUC\n",
    "lr_auc = roc_auc_score(y_test, lr_probs)\n",
    "print('LogisticRegression: ROC AUC=%.3f' % (lr_auc))\n",
    "# рассчитываем roc-кривую\n",
    "fpr, tpr, treshold = roc_curve(y_test, lr_probs)\n",
    "roc_auc = auc(fpr, tpr)\n",
    "# строим график\n",
    "plt.plot(fpr, tpr, color='darkorange',\n",
    "         label='ROC кривая (area = %0.2f)' % roc_auc)\n",
    "plt.plot([0, 1], [0, 1], color='navy', linestyle='--')\n",
    "plt.xlim([0.0, 1.0])\n",
    "plt.ylim([0.0, 1.05])\n",
    "plt.xlabel('False Positive Rate')\n",
    "plt.ylabel('True Positive Rate')\n",
    "plt.title('Пример ROC-кривой')\n",
    "plt.legend(loc=\"lower right\")\n",
    "plt.show()"
   ]
  },
  {
   "cell_type": "markdown",
   "metadata": {},
   "source": [
    "# Logistic Regression2\n",
    "на отобранных переменных"
   ]
  },
  {
   "cell_type": "code",
   "execution_count": 97,
   "metadata": {},
   "outputs": [
    {
     "name": "stdout",
     "output_type": "stream",
     "text": [
      "Optimization terminated successfully.\n",
      "         Current function value: 0.369327\n",
      "         Iterations 26\n",
      "                          Results: Logit\n",
      "==================================================================\n",
      "Model:              Logit            Pseudo R-squared: 0.467      \n",
      "Dependent Variable: y                AIC:              841.5861   \n",
      "Date:               2021-12-11 17:10 BIC:              1005.1521  \n",
      "No. Observations:   1050             Log-Likelihood:   -387.79    \n",
      "Df Model:           32               LL-Null:          -727.80    \n",
      "Df Residuals:       1017             LLR p-value:      1.6230e-122\n",
      "Converged:          1.0000           Scale:            1.0000     \n",
      "No. Iterations:     26.0000                                       \n",
      "-------------------------------------------------------------------\n",
      "         Coef.     Std.Err.     z     P>|z|     [0.025      0.975] \n",
      "-------------------------------------------------------------------\n",
      "x1        0.1823     0.2551   0.7147  0.4748     -0.3177     0.6824\n",
      "x2       -0.2573     0.2590  -0.9933  0.3206     -0.7650     0.2504\n",
      "x3        0.0752     0.0966   0.7791  0.4359     -0.1141     0.2646\n",
      "x4        0.1441     0.0992   1.4525  0.1464     -0.0503     0.3384\n",
      "x5       -0.0372     0.0967  -0.3850  0.7002     -0.2267     0.1523\n",
      "x6       -0.0762     0.1003  -0.7595  0.4475     -0.2728     0.1204\n",
      "x7        0.0946     0.0974   0.9719  0.3311     -0.0962     0.2855\n",
      "x8        0.0195     0.0951   0.2053  0.8373     -0.1669     0.2059\n",
      "x9        0.0187     0.0976   0.1914  0.8482     -0.1725     0.2099\n",
      "x10       0.2635     0.1007   2.6151  0.0089      0.0660     0.4609\n",
      "x11       1.2853     0.1151  11.1629  0.0000      1.0596     1.5110\n",
      "x12       0.2565     0.0980   2.6179  0.0088      0.0645     0.4486\n",
      "x13      -0.1192     0.0970  -1.2279  0.2195     -0.3094     0.0710\n",
      "x14      -0.2080     0.0964  -2.1570  0.0310     -0.3971    -0.0190\n",
      "x15      -1.0056     0.3505  -2.8691  0.0041     -1.6926    -0.3187\n",
      "x16       0.9282     0.2993   3.1016  0.0019      0.3416     1.5147\n",
      "x17       1.6126     0.1088  14.8162  0.0000      1.3992     1.8259\n",
      "x18       0.3018     0.1408   2.1437  0.0321      0.0259     0.5776\n",
      "x19       0.2441     0.1027   2.3764  0.0175      0.0428     0.4454\n",
      "x20       0.1513     0.0974   1.5523  0.1206     -0.0397     0.3422\n",
      "x21      -0.0549     0.0997  -0.5506  0.5819     -0.2502     0.1404\n",
      "x22      -0.3133     0.1099  -2.8512  0.0044     -0.5286    -0.0979\n",
      "x23       0.0079     0.0960   0.0820  0.9347     -0.1803     0.1961\n",
      "x24       0.0383     0.0943   0.4060  0.6848     -0.1465     0.2230\n",
      "x25       0.2137     0.0950   2.2494  0.0245      0.0275     0.3999\n",
      "x26       0.0164     0.0964   0.1704  0.8647     -0.1725     0.2053\n",
      "x27    -114.7136  1159.8890  -0.0989  0.9212  -2388.0542  2158.6270\n",
      "x28      21.6750   220.1967   0.0984  0.9216   -409.9025   453.2525\n",
      "x29      22.7365   227.8532   0.0998  0.9205   -423.8476   469.3207\n",
      "x30      81.7128   826.4568   0.0989  0.9212  -1538.1128  1701.5384\n",
      "x31      -0.2609     0.1128  -2.3126  0.0207     -0.4821    -0.0398\n",
      "x32       0.4730     0.1197   3.9531  0.0001      0.2385     0.7076\n",
      "x33      -0.0962     0.0973  -0.9883  0.3230     -0.2869     0.0946\n",
      "==================================================================\n",
      "\n"
     ]
    }
   ],
   "source": [
    "# Baseline model\n",
    "import statsmodels.api as sm\n",
    "lr = sm.Logit(y_train, X_train).fit()\n",
    "print(lr.summary2())"
   ]
  },
  {
   "cell_type": "code",
   "execution_count": 98,
   "metadata": {},
   "outputs": [
    {
     "name": "stdout",
     "output_type": "stream",
     "text": [
      "19\n",
      "[ True  True False  True False False False False False  True  True  True\n",
      "  True  True  True  True  True  True  True  True False  True False False\n",
      "  True False False False  True False  True  True False]\n",
      "[ 1  1  5  1 10  6  4 12 13  1  1  1  1  1  1  1  1  1  1  1  7  1 14  8\n",
      "  1 11 15  3  1  9  1  1  2]\n"
     ]
    }
   ],
   "source": [
    "# Automatic Feature Selection\n",
    "from sklearn.feature_selection import RFECV\n",
    "from sklearn.linear_model import LogisticRegression\n",
    "estimator=LogisticRegression(random_state=123)\n",
    "selector=RFECV(estimator, step=1)\n",
    "selector=selector.fit(X_train, y_train)\n",
    "print(selector.n_features_)\n",
    "print(selector.support_)\n",
    "print(selector.ranking_)"
   ]
  },
  {
   "cell_type": "code",
   "execution_count": 99,
   "metadata": {},
   "outputs": [
    {
     "name": "stdout",
     "output_type": "stream",
     "text": [
      "[0, 1, 3, 9, 10, 11, 12, 13, 14, 15, 16, 17, 18, 19, 21, 24, 28, 30, 31]\n",
      "№\tIndex\tFeature\n",
      "0\t0\tmonths_as_customer\n",
      "1\t1\tage\n",
      "2\t3\tpolicy_csl\n",
      "3\t9\tinsured_occupation\n",
      "4\t10\tinsured_hobbies\n",
      "5\t11\tinsured_relationship\n",
      "6\t12\tcapital-gains\n",
      "7\t13\tcapital-loss\n",
      "8\t14\tincident_type\n",
      "9\t15\tcollision_type\n",
      "10\t16\tincident_severity\n",
      "11\t17\tauthorities_contacted\n",
      "12\t18\tincident_state\n",
      "13\t19\tincident_city\n",
      "14\t21\tnumber_of_vehicles_involved\n",
      "15\t24\twitnesses\n",
      "16\t28\tproperty_claim\n",
      "17\t30\tauto_make\n",
      "18\t31\tauto_model\n"
     ]
    }
   ],
   "source": [
    "# Selected Features\n",
    "selected_columns=[]\n",
    "for i in range(len(X_train[0])):\n",
    "    if selector.support_[i]==1:\n",
    "        selected_columns.append(i)\n",
    "print(selected_columns)\n",
    "print('№\\tIndex\\tFeature')\n",
    "i=0\n",
    "for column in selected_columns:\n",
    "    print(str(i)+'\\t'+str(column)+'\\t'+str(train.columns[column]))\n",
    "    i=i+1"
   ]
  },
  {
   "cell_type": "code",
   "execution_count": 100,
   "metadata": {},
   "outputs": [],
   "source": [
    "# p-value < 3% Features\n",
    "bas_X_train = X_train[:,[9, 10, 11, 13, 14, 15, 16, 17, 18, 21, 24, 30, 31]]\n",
    "bas_X_test = X_test[:,[9, 10, 11, 13, 14, 15, 16, 17, 18, 21, 24, 30, 31]]"
   ]
  },
  {
   "cell_type": "code",
   "execution_count": 102,
   "metadata": {},
   "outputs": [],
   "source": [
    "# Fitting Logistic Regression to the Training set\n",
    "from sklearn.linear_model import LogisticRegression\n",
    "bas = LogisticRegression(random_state = 13).fit(bas_X_train, y_train)"
   ]
  },
  {
   "cell_type": "code",
   "execution_count": 103,
   "metadata": {},
   "outputs": [
    {
     "data": {
      "text/plain": [
       "0.87"
      ]
     },
     "execution_count": 103,
     "metadata": {},
     "output_type": "execute_result"
    }
   ],
   "source": [
    "# Predicting the Test set results\n",
    "y_bas_pred = bas.predict(bas_X_test)\n",
    "bas.score(bas_X_test,y_test)"
   ]
  },
  {
   "cell_type": "code",
   "execution_count": 104,
   "metadata": {},
   "outputs": [
    {
     "name": "stdout",
     "output_type": "stream",
     "text": [
      "[[195  33]\n",
      " [  6  66]]\n"
     ]
    }
   ],
   "source": [
    "# Making the Confusion Matrix\n",
    "from sklearn.metrics import confusion_matrix\n",
    "cm = confusion_matrix(y_test, y_bas_pred)\n",
    "print(cm)"
   ]
  },
  {
   "cell_type": "code",
   "execution_count": 105,
   "metadata": {},
   "outputs": [
    {
     "data": {
      "text/plain": [
       "0.13"
      ]
     },
     "execution_count": 105,
     "metadata": {},
     "output_type": "execute_result"
    }
   ],
   "source": [
    "Error_rate = (6+33)/(300)\n",
    "Error_rate"
   ]
  },
  {
   "cell_type": "code",
   "execution_count": 106,
   "metadata": {},
   "outputs": [
    {
     "data": {
      "text/plain": [
       "0.9166666666666666"
      ]
     },
     "execution_count": 106,
     "metadata": {},
     "output_type": "execute_result"
    }
   ],
   "source": [
    "Se = 66/(66+6)\n",
    "Se"
   ]
  },
  {
   "cell_type": "code",
   "execution_count": 107,
   "metadata": {},
   "outputs": [
    {
     "data": {
      "text/plain": [
       "0.8552631578947368"
      ]
     },
     "execution_count": 107,
     "metadata": {},
     "output_type": "execute_result"
    }
   ],
   "source": [
    "Sp = 195/(195+33)\n",
    "Sp"
   ]
  },
  {
   "cell_type": "code",
   "execution_count": 108,
   "metadata": {},
   "outputs": [
    {
     "name": "stdout",
     "output_type": "stream",
     "text": [
      "LogisticRegression: ROC AUC=0.939\n"
     ]
    },
    {
     "data": {
      "image/png": "[encoded data removed]",
      "text/plain": [
       "<Figure size 432x288 with 1 Axes>"
      ]
     },
     "metadata": {
      "needs_background": "light"
     },
     "output_type": "display_data"
    }
   ],
   "source": [
    "import sklearn\n",
    "from sklearn.datasets import make_classification\n",
    "from sklearn.linear_model import LogisticRegression\n",
    "from sklearn.model_selection import train_test_split\n",
    "import sklearn.metrics as metrics\n",
    "from sklearn.metrics import roc_curve, auc\n",
    "from sklearn.metrics import roc_auc_score\n",
    "from matplotlib import pyplot as plt\n",
    "lr_probs2 = bas.predict_proba(bas_X_test)\n",
    "# сохраняем вероятности только для положительного исхода\n",
    "lr_probs2 = lr_probs2[:, 1]\n",
    "# рассчитываем ROC AUC\n",
    "bas_auc = roc_auc_score(y_test, lr_probs2)\n",
    "print('LogisticRegression: ROC AUC=%.3f' % (bas_auc))\n",
    "# рассчитываем roc-кривую\n",
    "fpr, tpr, treshold = roc_curve(y_test, lr_probs2)\n",
    "roc_auc = auc(fpr, tpr)\n",
    "# строим график\n",
    "plt.plot(fpr, tpr, color='darkorange',\n",
    "         label='ROC кривая (area = %0.2f)' % roc_auc)\n",
    "plt.plot([0, 1], [0, 1], color='navy', linestyle='--')\n",
    "plt.xlim([0.0, 1.0])\n",
    "plt.ylim([0.0, 1.05])\n",
    "plt.xlabel('False Positive Rate')\n",
    "plt.ylabel('True Positive Rate')\n",
    "plt.title('Пример ROC-кривой')\n",
    "plt.legend(loc=\"lower right\")\n",
    "plt.show()"
   ]
  },
  {
   "cell_type": "markdown",
   "metadata": {},
   "source": [
    "# SVM"
   ]
  },
  {
   "cell_type": "code",
   "execution_count": 118,
   "metadata": {},
   "outputs": [],
   "source": [
    "# Fitting SVM to the Training set (2 variables)\n",
    "from sklearn.svm import SVC\n",
    "svm = SVC(kernel = 'linear', random_state = 10,probability=True).fit(bas_X_train, y_train)"
   ]
  },
  {
   "cell_type": "code",
   "execution_count": 119,
   "metadata": {},
   "outputs": [
    {
     "data": {
      "text/plain": [
       "0.8666666666666667"
      ]
     },
     "execution_count": 119,
     "metadata": {},
     "output_type": "execute_result"
    }
   ],
   "source": [
    "# Predicting the Test set results\n",
    "svm_pred = svm.predict(bas_X_test)\n",
    "svm.score(bas_X_test,y_test)"
   ]
  },
  {
   "cell_type": "code",
   "execution_count": 120,
   "metadata": {},
   "outputs": [
    {
     "name": "stdout",
     "output_type": "stream",
     "text": [
      "[[192  36]\n",
      " [  4  68]]\n"
     ]
    }
   ],
   "source": [
    "# Making the Confusion Matrix\n",
    "from sklearn.metrics import confusion_matrix\n",
    "cm = confusion_matrix(y_test, svm_pred)\n",
    "print(cm)"
   ]
  },
  {
   "cell_type": "code",
   "execution_count": 121,
   "metadata": {},
   "outputs": [
    {
     "data": {
      "text/plain": [
       "0.13333333333333333"
      ]
     },
     "execution_count": 121,
     "metadata": {},
     "output_type": "execute_result"
    }
   ],
   "source": [
    "Error_rate = (4+36)/(300)\n",
    "Error_rate"
   ]
  },
  {
   "cell_type": "code",
   "execution_count": 122,
   "metadata": {},
   "outputs": [
    {
     "data": {
      "text/plain": [
       "0.9444444444444444"
      ]
     },
     "execution_count": 122,
     "metadata": {},
     "output_type": "execute_result"
    }
   ],
   "source": [
    "Se = 68/(68+4)\n",
    "Se"
   ]
  },
  {
   "cell_type": "code",
   "execution_count": 123,
   "metadata": {},
   "outputs": [
    {
     "data": {
      "text/plain": [
       "0.8421052631578947"
      ]
     },
     "execution_count": 123,
     "metadata": {},
     "output_type": "execute_result"
    }
   ],
   "source": [
    "Sp = 192/(192+36)\n",
    "Sp"
   ]
  },
  {
   "cell_type": "code",
   "execution_count": 124,
   "metadata": {},
   "outputs": [
    {
     "name": "stdout",
     "output_type": "stream",
     "text": [
      "LogisticRegression: ROC AUC=0.936\n"
     ]
    },
    {
     "data": {
      "image/png": "[encoded data removed]",
      "text/plain": [
       "<Figure size 432x288 with 1 Axes>"
      ]
     },
     "metadata": {
      "needs_background": "light"
     },
     "output_type": "display_data"
    }
   ],
   "source": [
    "import sklearn\n",
    "from sklearn.datasets import make_classification\n",
    "from sklearn.linear_model import LogisticRegression\n",
    "from sklearn.model_selection import train_test_split\n",
    "import sklearn.metrics as metrics\n",
    "from sklearn.metrics import roc_curve, auc\n",
    "from sklearn.metrics import roc_auc_score\n",
    "from matplotlib import pyplot as plt\n",
    "svm_probs = svm.predict_proba(bas_X_test)\n",
    "# сохраняем вероятности только для положительного исхода\n",
    "svm_probs = svm_probs[:, 1]\n",
    "# рассчитываем ROC AUC\n",
    "svm_auc = roc_auc_score(y_test, svm_probs)\n",
    "print('LogisticRegression: ROC AUC=%.3f' % (svm_auc))\n",
    "# рассчитываем roc-кривую\n",
    "fpr, tpr, treshold = roc_curve(y_test, svm_probs)\n",
    "roc_auc = auc(fpr, tpr)\n",
    "# строим график\n",
    "plt.plot(fpr, tpr, color='darkorange',\n",
    "         label='ROC кривая (area = %0.2f)' % roc_auc)\n",
    "plt.plot([0, 1], [0, 1], color='navy', linestyle='--')\n",
    "plt.xlim([0.0, 1.0])\n",
    "plt.ylim([0.0, 1.05])\n",
    "plt.xlabel('False Positive Rate')\n",
    "plt.ylabel('True Positive Rate')\n",
    "plt.title('Пример ROC-кривой')\n",
    "plt.legend(loc=\"lower right\")\n",
    "plt.show()"
   ]
  },
  {
   "cell_type": "code",
   "execution_count": 400,
   "metadata": {},
   "outputs": [],
   "source": [
    "# Fitting SVM to the Training set (2 variables)\n",
    "from sklearn.svm import SVC\n",
    "svm1 = SVC(kernel = 'linear', random_state = 10,probability=True).fit(X_train, y_train)"
   ]
  },
  {
   "cell_type": "code",
   "execution_count": 401,
   "metadata": {},
   "outputs": [
    {
     "data": {
      "text/plain": [
       "0.8666666666666667"
      ]
     },
     "execution_count": 401,
     "metadata": {},
     "output_type": "execute_result"
    }
   ],
   "source": [
    "# Predicting the Test set results\n",
    "svm_pred = svm1.predict(X_test)\n",
    "svm1.score(X_test,y_test)"
   ]
  },
  {
   "cell_type": "code",
   "execution_count": 402,
   "metadata": {},
   "outputs": [
    {
     "name": "stdout",
     "output_type": "stream",
     "text": [
      "[[192  36]\n",
      " [  4  68]]\n"
     ]
    }
   ],
   "source": [
    "# Making the Confusion Matrix\n",
    "from sklearn.metrics import confusion_matrix\n",
    "cm = confusion_matrix(y_test, svm_pred)\n",
    "print(cm)"
   ]
  },
  {
   "cell_type": "code",
   "execution_count": 404,
   "metadata": {},
   "outputs": [
    {
     "data": {
      "text/plain": [
       "0.13333333333333333"
      ]
     },
     "execution_count": 404,
     "metadata": {},
     "output_type": "execute_result"
    }
   ],
   "source": [
    "Error_rate = (4+36)/(300)\n",
    "Error_rate"
   ]
  },
  {
   "cell_type": "code",
   "execution_count": 405,
   "metadata": {},
   "outputs": [
    {
     "data": {
      "text/plain": [
       "0.9444444444444444"
      ]
     },
     "execution_count": 405,
     "metadata": {},
     "output_type": "execute_result"
    }
   ],
   "source": [
    "Se = 68/(68+4)\n",
    "Se"
   ]
  },
  {
   "cell_type": "code",
   "execution_count": 406,
   "metadata": {},
   "outputs": [
    {
     "data": {
      "text/plain": [
       "0.8421052631578947"
      ]
     },
     "execution_count": 406,
     "metadata": {},
     "output_type": "execute_result"
    }
   ],
   "source": [
    "Sp = 192/(192+36)\n",
    "Sp"
   ]
  },
  {
   "cell_type": "code",
   "execution_count": 407,
   "metadata": {},
   "outputs": [
    {
     "name": "stdout",
     "output_type": "stream",
     "text": [
      "LogisticRegression: ROC AUC=0.932\n"
     ]
    },
    {
     "data": {
      "image/png": "[encoded data removed]",
      "text/plain": [
       "<Figure size 432x288 with 1 Axes>"
      ]
     },
     "metadata": {
      "needs_background": "light"
     },
     "output_type": "display_data"
    }
   ],
   "source": [
    "import sklearn\n",
    "from sklearn.datasets import make_classification\n",
    "from sklearn.linear_model import LogisticRegression\n",
    "from sklearn.model_selection import train_test_split\n",
    "import sklearn.metrics as metrics\n",
    "from sklearn.metrics import roc_curve, auc\n",
    "from sklearn.metrics import roc_auc_score\n",
    "from matplotlib import pyplot as plt\n",
    "svm1_probs = svm1.predict_proba(X_test)\n",
    "# сохраняем вероятности только для положительного исхода\n",
    "svm1_probs = svm1_probs[:, 1]\n",
    "# рассчитываем ROC AUC\n",
    "svm1_auc = roc_auc_score(y_test, svm1_probs)\n",
    "print('LogisticRegression: ROC AUC=%.3f' % (svm1_auc))\n",
    "# рассчитываем roc-кривую\n",
    "fpr, tpr, treshold = roc_curve(y_test, svm1_probs)\n",
    "roc_auc = auc(fpr, tpr)\n",
    "# строим график\n",
    "plt.plot(fpr, tpr, color='darkorange',\n",
    "         label='ROC кривая (area = %0.2f)' % roc_auc)\n",
    "plt.plot([0, 1], [0, 1], color='navy', linestyle='--')\n",
    "plt.xlim([0.0, 1.0])\n",
    "plt.ylim([0.0, 1.05])\n",
    "plt.xlabel('False Positive Rate')\n",
    "plt.ylabel('True Positive Rate')\n",
    "plt.title('Пример ROC-кривой')\n",
    "plt.legend(loc=\"lower right\")\n",
    "plt.show()"
   ]
  },
  {
   "cell_type": "markdown",
   "metadata": {},
   "source": [
    "# K-Nearest Neighbors"
   ]
  },
  {
   "cell_type": "code",
   "execution_count": 132,
   "metadata": {},
   "outputs": [
    {
     "name": "stdout",
     "output_type": "stream",
     "text": [
      "Minimum error:- 0.13666666666666666 at K = 15\n"
     ]
    },
    {
     "data": {
      "image/png": "[encoded data removed]",
      "text/plain": [
       "<Figure size 720x432 with 1 Axes>"
      ]
     },
     "metadata": {
      "needs_background": "light"
     },
     "output_type": "display_data"
    }
   ],
   "source": [
    "# Optimal K \n",
    "from sklearn.neighbors import KNeighborsClassifier\n",
    "error_rate = []\n",
    "for i in range(1,50):\n",
    "     knn = KNeighborsClassifier(n_neighbors=i)\n",
    "     knn.fit(bas_X_train,y_train)\n",
    "     pred_i = knn.predict(bas_X_test)\n",
    "     error_rate.append(np.mean(pred_i != y_test))\n",
    "\n",
    "plt.figure(figsize=(10,6))\n",
    "plt.plot(range(1,50),error_rate,color='blue', linestyle='dashed', \n",
    "         marker='o',markerfacecolor='red', markersize=10)\n",
    "plt.title('Error Rate vs. K Value')\n",
    "plt.xlabel('K')\n",
    "plt.ylabel('Error Rate')\n",
    "print(\"Minimum error:-\",min(error_rate),\"at K =\",error_rate.index(min(error_rate)))"
   ]
  },
  {
   "cell_type": "code",
   "execution_count": 133,
   "metadata": {},
   "outputs": [],
   "source": [
    "# Fitting K-NN to the Training set (2 variables)\n",
    "knn = KNeighborsClassifier(n_neighbors = 15, metric = 'minkowski', p = 2).fit(bas_X_train, y_train)"
   ]
  },
  {
   "cell_type": "code",
   "execution_count": 134,
   "metadata": {},
   "outputs": [
    {
     "data": {
      "text/plain": [
       "0.857"
      ]
     },
     "execution_count": 134,
     "metadata": {},
     "output_type": "execute_result"
    }
   ],
   "source": [
    "# Predicting the Test set results\n",
    "knn_pred = knn.predict(bas_X_test)\n",
    "knn.score(bas_X_test,y_test).round(3)"
   ]
  },
  {
   "cell_type": "code",
   "execution_count": 135,
   "metadata": {},
   "outputs": [
    {
     "name": "stdout",
     "output_type": "stream",
     "text": [
      "[[189  39]\n",
      " [  4  68]]\n"
     ]
    }
   ],
   "source": [
    "# Making the Confusion Matrix\n",
    "from sklearn.metrics import confusion_matrix\n",
    "cm = confusion_matrix(y_test, knn_pred)\n",
    "print(cm)"
   ]
  },
  {
   "cell_type": "code",
   "execution_count": 136,
   "metadata": {},
   "outputs": [
    {
     "data": {
      "text/plain": [
       "0.14333333333333334"
      ]
     },
     "execution_count": 136,
     "metadata": {},
     "output_type": "execute_result"
    }
   ],
   "source": [
    "Error_rate = (39+4)/(300)\n",
    "Error_rate"
   ]
  },
  {
   "cell_type": "code",
   "execution_count": 137,
   "metadata": {},
   "outputs": [
    {
     "data": {
      "text/plain": [
       "0.9444444444444444"
      ]
     },
     "execution_count": 137,
     "metadata": {},
     "output_type": "execute_result"
    }
   ],
   "source": [
    "Se = 68/(68+4)\n",
    "Se"
   ]
  },
  {
   "cell_type": "code",
   "execution_count": 138,
   "metadata": {},
   "outputs": [
    {
     "data": {
      "text/plain": [
       "0.8289473684210527"
      ]
     },
     "execution_count": 138,
     "metadata": {},
     "output_type": "execute_result"
    }
   ],
   "source": [
    "Sp = 189/(189+39)\n",
    "Sp"
   ]
  },
  {
   "cell_type": "code",
   "execution_count": 139,
   "metadata": {},
   "outputs": [
    {
     "name": "stdout",
     "output_type": "stream",
     "text": [
      "KNN: ROC AUC=0.889\n"
     ]
    },
    {
     "data": {
      "image/png": "[encoded data removed]",
      "text/plain": [
       "<Figure size 432x288 with 1 Axes>"
      ]
     },
     "metadata": {
      "needs_background": "light"
     },
     "output_type": "display_data"
    }
   ],
   "source": [
    "# отримуємо передбачення\n",
    "knn_probs = knn.predict_proba(bas_X_test)\n",
    "# сохраняем вероятности только для положительного исхода\n",
    "knn_probs = knn_probs[:, 1]\n",
    "# рассчитываем ROC AUC\n",
    "knn_auc = roc_auc_score(y_test, knn_probs)\n",
    "print('KNN: ROC AUC=%.3f' % (knn_auc))\n",
    "# рассчитываем roc-кривую\n",
    "fpr, tpr, treshold = roc_curve(y_test, knn_probs)\n",
    "roc_auc = auc(fpr, tpr)\n",
    "# строим график\n",
    "plt.plot(fpr, tpr, color='darkorange',\n",
    "         label='KNN (area = %0.2f)' % roc_auc)\n",
    "plt.plot([0, 1], [0, 1], color='navy', linestyle='--')\n",
    "plt.xlim([0.0, 1.0])\n",
    "plt.ylim([0.0, 1.05])\n",
    "plt.xlabel('False Positive Rate')\n",
    "plt.ylabel('True Positive Rate')\n",
    "plt.title('ROC-крива')\n",
    "plt.legend(loc=\"lower right\")\n",
    "plt.show()"
   ]
  },
  {
   "cell_type": "code",
   "execution_count": 140,
   "metadata": {},
   "outputs": [
    {
     "name": "stdout",
     "output_type": "stream",
     "text": [
      "Minimum error:- 0.19666666666666666 at K = 43\n"
     ]
    },
    {
     "data": {
      "image/png": "[encoded data removed]",
      "text/plain": [
       "<Figure size 720x432 with 1 Axes>"
      ]
     },
     "metadata": {
      "needs_background": "light"
     },
     "output_type": "display_data"
    }
   ],
   "source": [
    "# Optimal K \n",
    "from sklearn.neighbors import KNeighborsClassifier\n",
    "error_rate = []\n",
    "for i in range(1,50):\n",
    "     knn1 = KNeighborsClassifier(n_neighbors=i)\n",
    "     knn1.fit(X_train,y_train)\n",
    "     pred_i = knn1.predict(X_test)\n",
    "     error_rate.append(np.mean(pred_i != y_test))\n",
    "\n",
    "plt.figure(figsize=(10,6))\n",
    "plt.plot(range(1,50),error_rate,color='blue', linestyle='dashed', \n",
    "         marker='o',markerfacecolor='red', markersize=10)\n",
    "plt.title('Error Rate vs. K Value')\n",
    "plt.xlabel('K')\n",
    "plt.ylabel('Error Rate')\n",
    "print(\"Minimum error:-\",min(error_rate),\"at K =\",error_rate.index(min(error_rate)))"
   ]
  },
  {
   "cell_type": "code",
   "execution_count": 141,
   "metadata": {},
   "outputs": [],
   "source": [
    "# Fitting K-NN to the Training set (2 variables)\n",
    "knn1 = KNeighborsClassifier(n_neighbors = 43, metric = 'minkowski', p = 2).fit(X_train, y_train)"
   ]
  },
  {
   "cell_type": "code",
   "execution_count": 142,
   "metadata": {},
   "outputs": [
    {
     "data": {
      "text/plain": [
       "0.787"
      ]
     },
     "execution_count": 142,
     "metadata": {},
     "output_type": "execute_result"
    }
   ],
   "source": [
    "# Predicting the Test set results\n",
    "knn_pred = knn1.predict(X_test)\n",
    "knn1.score(X_test,y_test).round(3)"
   ]
  },
  {
   "cell_type": "code",
   "execution_count": 143,
   "metadata": {},
   "outputs": [
    {
     "name": "stdout",
     "output_type": "stream",
     "text": [
      "[[180  48]\n",
      " [ 16  56]]\n"
     ]
    }
   ],
   "source": [
    "# Making the Confusion Matrix\n",
    "from sklearn.metrics import confusion_matrix\n",
    "cm = confusion_matrix(y_test, knn_pred)\n",
    "print(cm)"
   ]
  },
  {
   "cell_type": "code",
   "execution_count": 144,
   "metadata": {},
   "outputs": [
    {
     "data": {
      "text/plain": [
       "0.21333333333333335"
      ]
     },
     "execution_count": 144,
     "metadata": {},
     "output_type": "execute_result"
    }
   ],
   "source": [
    "Error_rate = (16+48)/(300)\n",
    "Error_rate"
   ]
  },
  {
   "cell_type": "code",
   "execution_count": 145,
   "metadata": {},
   "outputs": [
    {
     "data": {
      "text/plain": [
       "0.7777777777777778"
      ]
     },
     "execution_count": 145,
     "metadata": {},
     "output_type": "execute_result"
    }
   ],
   "source": [
    "Se = 56/(56+16)\n",
    "Se"
   ]
  },
  {
   "cell_type": "code",
   "execution_count": 146,
   "metadata": {},
   "outputs": [
    {
     "data": {
      "text/plain": [
       "0.7894736842105263"
      ]
     },
     "execution_count": 146,
     "metadata": {},
     "output_type": "execute_result"
    }
   ],
   "source": [
    "Sp = 180/(180+48)\n",
    "Sp"
   ]
  },
  {
   "cell_type": "code",
   "execution_count": 147,
   "metadata": {},
   "outputs": [
    {
     "name": "stdout",
     "output_type": "stream",
     "text": [
      "KNN: ROC AUC=0.843\n"
     ]
    },
    {
     "data": {
      "image/png": "[encoded data removed]",
      "text/plain": [
       "<Figure size 432x288 with 1 Axes>"
      ]
     },
     "metadata": {
      "needs_background": "light"
     },
     "output_type": "display_data"
    }
   ],
   "source": [
    "# отримуємо передбачення\n",
    "knn1_probs = knn1.predict_proba(X_test)\n",
    "# сохраняем вероятности только для положительного исхода\n",
    "knn1_probs = knn1_probs[:, 1]\n",
    "# рассчитываем ROC AUC\n",
    "knn1_auc = roc_auc_score(y_test, knn1_probs)\n",
    "print('KNN: ROC AUC=%.3f' % (knn1_auc))\n",
    "# рассчитываем roc-кривую\n",
    "fpr, tpr, treshold = roc_curve(y_test, knn1_probs)\n",
    "roc_auc = auc(fpr, tpr)\n",
    "# строим график\n",
    "plt.plot(fpr, tpr, color='darkorange',\n",
    "         label='KNN (area = %0.2f)' % roc_auc)\n",
    "plt.plot([0, 1], [0, 1], color='navy', linestyle='--')\n",
    "plt.xlim([0.0, 1.0])\n",
    "plt.ylim([0.0, 1.05])\n",
    "plt.xlabel('False Positive Rate')\n",
    "plt.ylabel('True Positive Rate')\n",
    "plt.title('ROC-крива')\n",
    "plt.legend(loc=\"lower right\")\n",
    "plt.show()"
   ]
  },
  {
   "cell_type": "markdown",
   "metadata": {},
   "source": [
    "# Naive Bayes"
   ]
  },
  {
   "cell_type": "code",
   "execution_count": 148,
   "metadata": {},
   "outputs": [],
   "source": [
    "# Fitting Naive Bayes to the Training set\n",
    "from sklearn.naive_bayes import GaussianNB\n",
    "nb = GaussianNB().fit(bas_X_train, y_train)"
   ]
  },
  {
   "cell_type": "code",
   "execution_count": 149,
   "metadata": {},
   "outputs": [
    {
     "data": {
      "text/plain": [
       "0.73"
      ]
     },
     "execution_count": 149,
     "metadata": {},
     "output_type": "execute_result"
    }
   ],
   "source": [
    "# Predicting the Test set results\n",
    "nb_pred = nb.predict(bas_X_test)\n",
    "nb.score(bas_X_test,y_test)"
   ]
  },
  {
   "cell_type": "code",
   "execution_count": 150,
   "metadata": {},
   "outputs": [
    {
     "name": "stdout",
     "output_type": "stream",
     "text": [
      "[[156  72]\n",
      " [  9  63]]\n"
     ]
    }
   ],
   "source": [
    "# Making the Confusion Matrix\n",
    "from sklearn.metrics import confusion_matrix\n",
    "cm = confusion_matrix(y_test, nb_pred)\n",
    "print(cm)"
   ]
  },
  {
   "cell_type": "code",
   "execution_count": 151,
   "metadata": {},
   "outputs": [
    {
     "data": {
      "text/plain": [
       "0.27"
      ]
     },
     "execution_count": 151,
     "metadata": {},
     "output_type": "execute_result"
    }
   ],
   "source": [
    "Error_rate = (9+72)/(300)\n",
    "Error_rate"
   ]
  },
  {
   "cell_type": "code",
   "execution_count": 152,
   "metadata": {},
   "outputs": [
    {
     "data": {
      "text/plain": [
       "0.875"
      ]
     },
     "execution_count": 152,
     "metadata": {},
     "output_type": "execute_result"
    }
   ],
   "source": [
    "Se = 63/(63+9)\n",
    "Se"
   ]
  },
  {
   "cell_type": "code",
   "execution_count": 153,
   "metadata": {},
   "outputs": [
    {
     "data": {
      "text/plain": [
       "0.6842105263157895"
      ]
     },
     "execution_count": 153,
     "metadata": {},
     "output_type": "execute_result"
    }
   ],
   "source": [
    "Sp = 156/(156+72)\n",
    "Sp"
   ]
  },
  {
   "cell_type": "code",
   "execution_count": 154,
   "metadata": {},
   "outputs": [
    {
     "name": "stdout",
     "output_type": "stream",
     "text": [
      "KNN: ROC AUC=0.873\n"
     ]
    },
    {
     "data": {
      "image/png": "[encoded data removed]",
      "text/plain": [
       "<Figure size 432x288 with 1 Axes>"
      ]
     },
     "metadata": {
      "needs_background": "light"
     },
     "output_type": "display_data"
    }
   ],
   "source": [
    "# отримуємо передбачення\n",
    "nb_probs = nb.predict_proba(bas_X_test)\n",
    "# сохраняем вероятности только для положительного исхода\n",
    "nb_probs = nb_probs[:, 1]\n",
    "# рассчитываем ROC AUC\n",
    "nb_auc = roc_auc_score(y_test, nb_probs)\n",
    "print('KNN: ROC AUC=%.3f' % (nb_auc))\n",
    "# рассчитываем roc-кривую\n",
    "fpr, tpr, treshold = roc_curve(y_test, nb_probs)\n",
    "roc_auc = auc(fpr, tpr)\n",
    "# строим график\n",
    "plt.plot(fpr, tpr, color='darkorange',\n",
    "         label='KNN (area = %0.2f)' % roc_auc)\n",
    "plt.plot([0, 1], [0, 1], color='navy', linestyle='--')\n",
    "plt.xlim([0.0, 1.0])\n",
    "plt.ylim([0.0, 1.05])\n",
    "plt.xlabel('False Positive Rate')\n",
    "plt.ylabel('True Positive Rate')\n",
    "plt.title('ROC-крива')\n",
    "plt.legend(loc=\"lower right\")\n",
    "plt.show()"
   ]
  },
  {
   "cell_type": "code",
   "execution_count": 155,
   "metadata": {},
   "outputs": [],
   "source": [
    "# Fitting Naive Bayes to the Training set\n",
    "from sklearn.naive_bayes import GaussianNB\n",
    "nb1 = GaussianNB().fit(X_train, y_train)"
   ]
  },
  {
   "cell_type": "code",
   "execution_count": 156,
   "metadata": {},
   "outputs": [
    {
     "data": {
      "text/plain": [
       "0.6233333333333333"
      ]
     },
     "execution_count": 156,
     "metadata": {},
     "output_type": "execute_result"
    }
   ],
   "source": [
    "# Predicting the Test set results\n",
    "nb1_pred = nb1.predict(X_test)\n",
    "nb1.score(X_test,y_test)"
   ]
  },
  {
   "cell_type": "code",
   "execution_count": 157,
   "metadata": {},
   "outputs": [
    {
     "name": "stdout",
     "output_type": "stream",
     "text": [
      "[[123 105]\n",
      " [  8  64]]\n"
     ]
    }
   ],
   "source": [
    "# Making the Confusion Matrix\n",
    "from sklearn.metrics import confusion_matrix\n",
    "cm = confusion_matrix(y_test, nb1_pred)\n",
    "print(cm)"
   ]
  },
  {
   "cell_type": "code",
   "execution_count": 159,
   "metadata": {},
   "outputs": [
    {
     "data": {
      "text/plain": [
       "0.37666666666666665"
      ]
     },
     "execution_count": 159,
     "metadata": {},
     "output_type": "execute_result"
    }
   ],
   "source": [
    "Error_rate = (8+105)/(300)\n",
    "Error_rate"
   ]
  },
  {
   "cell_type": "code",
   "execution_count": 161,
   "metadata": {},
   "outputs": [
    {
     "data": {
      "text/plain": [
       "0.8888888888888888"
      ]
     },
     "execution_count": 161,
     "metadata": {},
     "output_type": "execute_result"
    }
   ],
   "source": [
    "Se = 64/(64+8)\n",
    "Se"
   ]
  },
  {
   "cell_type": "code",
   "execution_count": 162,
   "metadata": {},
   "outputs": [
    {
     "data": {
      "text/plain": [
       "0.5394736842105263"
      ]
     },
     "execution_count": 162,
     "metadata": {},
     "output_type": "execute_result"
    }
   ],
   "source": [
    "Sp = 123/(123+105)\n",
    "Sp"
   ]
  },
  {
   "cell_type": "code",
   "execution_count": 163,
   "metadata": {},
   "outputs": [
    {
     "name": "stdout",
     "output_type": "stream",
     "text": [
      "KNN: ROC AUC=0.852\n"
     ]
    },
    {
     "data": {
      "image/png": "[encoded data removed]",
      "text/plain": [
       "<Figure size 432x288 with 1 Axes>"
      ]
     },
     "metadata": {
      "needs_background": "light"
     },
     "output_type": "display_data"
    }
   ],
   "source": [
    "# отримуємо передбачення\n",
    "nb1_probs = nb1.predict_proba(X_test)\n",
    "# сохраняем вероятности только для положительного исхода\n",
    "nb1_probs = nb1_probs[:, 1]\n",
    "# рассчитываем ROC AUC\n",
    "nb1_auc = roc_auc_score(y_test, nb1_probs)\n",
    "print('KNN: ROC AUC=%.3f' % (nb1_auc))\n",
    "# рассчитываем roc-кривую\n",
    "fpr, tpr, treshold = roc_curve(y_test, nb1_probs)\n",
    "roc_auc = auc(fpr, tpr)\n",
    "# строим график\n",
    "plt.plot(fpr, tpr, color='darkorange',\n",
    "         label='KNN (area = %0.2f)' % roc_auc)\n",
    "plt.plot([0, 1], [0, 1], color='navy', linestyle='--')\n",
    "plt.xlim([0.0, 1.0])\n",
    "plt.ylim([0.0, 1.05])\n",
    "plt.xlabel('False Positive Rate')\n",
    "plt.ylabel('True Positive Rate')\n",
    "plt.title('ROC-крива')\n",
    "plt.legend(loc=\"lower right\")\n",
    "plt.show()"
   ]
  },
  {
   "cell_type": "code",
   "execution_count": null,
   "metadata": {},
   "outputs": [],
   "source": []
  },
  {
   "cell_type": "markdown",
   "metadata": {},
   "source": [
    "# Classification Tree"
   ]
  },
  {
   "cell_type": "code",
   "execution_count": 164,
   "metadata": {},
   "outputs": [],
   "source": [
    "# Function Max Leaf\n",
    "def max_leaf_nodes(bas_X_train, bas_X_test, y_train, y_test, n):\n",
    "    mse_train = []\n",
    "    mse_test = []\n",
    "    for i in n:\n",
    "        ct = DecisionTreeClassifier(max_leaf_nodes = i, random_state=10).fit(bas_X_train, y_train)\n",
    "        mse_train.append(mean_squared_error(y_train, ct.predict(bas_X_train)))\n",
    "        mse_test.append(mean_squared_error(y_test, ct.predict(bas_X_test)))\n",
    "    fig, ax = plt.subplots(figsize=(8, 4))\n",
    "    ax.plot(n, mse_train, alpha=0.5, color='blue', label='train')\n",
    "    ax.plot(n, mse_test, alpha=0.5, color='red', label='test')\n",
    "    ax.set_ylabel(\"MSE\")\n",
    "    ax.set_xlabel(\"max_leaf_nodes\")"
   ]
  },
  {
   "cell_type": "code",
   "execution_count": 165,
   "metadata": {},
   "outputs": [
    {
     "data": {
      "image/png": "[encoded data removed]",
      "text/plain": [
       "<Figure size 576x288 with 1 Axes>"
      ]
     },
     "metadata": {
      "needs_background": "light"
     },
     "output_type": "display_data"
    }
   ],
   "source": [
    "# The optimal number of max_leaf_nodes\n",
    "from sklearn.tree import DecisionTreeClassifier\n",
    "from sklearn.metrics import mean_squared_error\n",
    "max_leaf_nodes(bas_X_train, bas_X_test, y_train, y_test, [2, 4, 6, 8, 10])"
   ]
  },
  {
   "cell_type": "code",
   "execution_count": 202,
   "metadata": {},
   "outputs": [],
   "source": [
    "# Fitting Classification Tree to the Training set (2 variables)\n",
    "ct = DecisionTreeClassifier(max_leaf_nodes =4, criterion = 'entropy', random_state = 10).fit(bas_X_train, y_train)"
   ]
  },
  {
   "cell_type": "code",
   "execution_count": 203,
   "metadata": {},
   "outputs": [
    {
     "data": {
      "text/plain": [
       "0.8666666666666667"
      ]
     },
     "execution_count": 203,
     "metadata": {},
     "output_type": "execute_result"
    }
   ],
   "source": [
    "# Predicting the Test set results\n",
    "ct_pred = ct.predict(bas_X_test)\n",
    "ct.score(bas_X_test,y_test)"
   ]
  },
  {
   "cell_type": "code",
   "execution_count": 204,
   "metadata": {},
   "outputs": [
    {
     "name": "stdout",
     "output_type": "stream",
     "text": [
      "[[192  36]\n",
      " [  4  68]]\n"
     ]
    }
   ],
   "source": [
    "# Making the Confusion Matrix\n",
    "from sklearn.metrics import confusion_matrix\n",
    "cm = confusion_matrix(y_test, ct_pred)\n",
    "print(cm)"
   ]
  },
  {
   "cell_type": "code",
   "execution_count": 205,
   "metadata": {},
   "outputs": [
    {
     "data": {
      "text/plain": [
       "0.13333333333333333"
      ]
     },
     "execution_count": 205,
     "metadata": {},
     "output_type": "execute_result"
    }
   ],
   "source": [
    "Error_rate = (4+36)/(300)\n",
    "Error_rate"
   ]
  },
  {
   "cell_type": "code",
   "execution_count": 206,
   "metadata": {},
   "outputs": [
    {
     "data": {
      "text/plain": [
       "0.9444444444444444"
      ]
     },
     "execution_count": 206,
     "metadata": {},
     "output_type": "execute_result"
    }
   ],
   "source": [
    "Se = 68/(68+4)\n",
    "Se"
   ]
  },
  {
   "cell_type": "code",
   "execution_count": 207,
   "metadata": {},
   "outputs": [
    {
     "data": {
      "text/plain": [
       "0.8421052631578947"
      ]
     },
     "execution_count": 207,
     "metadata": {},
     "output_type": "execute_result"
    }
   ],
   "source": [
    "Sp = 192/(192+36)\n",
    "Sp"
   ]
  },
  {
   "cell_type": "code",
   "execution_count": 208,
   "metadata": {},
   "outputs": [
    {
     "name": "stdout",
     "output_type": "stream",
     "text": [
      "KNN: ROC AUC=0.913\n"
     ]
    },
    {
     "data": {
      "image/png": "[encoded data removed]",
      "text/plain": [
       "<Figure size 432x288 with 1 Axes>"
      ]
     },
     "metadata": {
      "needs_background": "light"
     },
     "output_type": "display_data"
    }
   ],
   "source": [
    "# отримуємо передбачення\n",
    "ct_probs = ct.predict_proba(bas_X_test)\n",
    "# сохраняем вероятности только для положительного исхода\n",
    "ct_probs = ct_probs[:, 1]\n",
    "# рассчитываем ROC AUC\n",
    "ct_auc = roc_auc_score(y_test, ct_probs)\n",
    "print('KNN: ROC AUC=%.3f' % (ct_auc))\n",
    "# рассчитываем roc-кривую\n",
    "fpr, tpr, treshold = roc_curve(y_test, ct_probs)\n",
    "roc_auc = auc(fpr, tpr)\n",
    "# строим график\n",
    "plt.plot(fpr, tpr, color='darkorange',\n",
    "         label='KNN (area = %0.2f)' % roc_auc)\n",
    "plt.plot([0, 1], [0, 1], color='navy', linestyle='--')\n",
    "plt.xlim([0.0, 1.0])\n",
    "plt.ylim([0.0, 1.05])\n",
    "plt.xlabel('False Positive Rate')\n",
    "plt.ylabel('True Positive Rate')\n",
    "plt.title('ROC-крива')\n",
    "plt.legend(loc=\"lower right\")\n",
    "plt.show()"
   ]
  },
  {
   "cell_type": "code",
   "execution_count": 209,
   "metadata": {},
   "outputs": [],
   "source": [
    "# Function Max Leaf\n",
    "def max_leaf_nodes(X_train, X_test, y_train, y_test, n):\n",
    "    mse_train = []\n",
    "    mse_test = []\n",
    "    for i in n:\n",
    "        ct = DecisionTreeClassifier(max_leaf_nodes = i, random_state=10).fit(X_train, y_train)\n",
    "        mse_train.append(mean_squared_error(y_train, ct.predict(X_train)))\n",
    "        mse_test.append(mean_squared_error(y_test, ct.predict(X_test)))\n",
    "    fig, ax = plt.subplots(figsize=(8, 4))\n",
    "    ax.plot(n, mse_train, alpha=0.5, color='blue', label='train')\n",
    "    ax.plot(n, mse_test, alpha=0.5, color='red', label='test')\n",
    "    ax.set_ylabel(\"MSE\")\n",
    "    ax.set_xlabel(\"max_leaf_nodes\")"
   ]
  },
  {
   "cell_type": "code",
   "execution_count": 210,
   "metadata": {},
   "outputs": [
    {
     "data": {
      "image/png": "[encoded data removed]",
      "text/plain": [
       "<Figure size 576x288 with 1 Axes>"
      ]
     },
     "metadata": {
      "needs_background": "light"
     },
     "output_type": "display_data"
    }
   ],
   "source": [
    "# The optimal number of max_leaf_nodes\n",
    "from sklearn.tree import DecisionTreeClassifier\n",
    "from sklearn.metrics import mean_squared_error\n",
    "max_leaf_nodes(X_train, X_test, y_train, y_test, [2, 4, 6, 8, 10])"
   ]
  },
  {
   "cell_type": "code",
   "execution_count": 229,
   "metadata": {},
   "outputs": [],
   "source": [
    "# Fitting Classification Tree to the Training set (2 variables)\n",
    "ct1 = DecisionTreeClassifier(max_leaf_nodes = 4, criterion = 'entropy', random_state = 10).fit(X_train, y_train)"
   ]
  },
  {
   "cell_type": "code",
   "execution_count": 230,
   "metadata": {},
   "outputs": [
    {
     "data": {
      "text/plain": [
       "0.8666666666666667"
      ]
     },
     "execution_count": 230,
     "metadata": {},
     "output_type": "execute_result"
    }
   ],
   "source": [
    "# Predicting the Test set results\n",
    "ct_pred = ct1.predict(X_test)\n",
    "ct1.score(X_test,y_test)"
   ]
  },
  {
   "cell_type": "code",
   "execution_count": 231,
   "metadata": {},
   "outputs": [
    {
     "name": "stdout",
     "output_type": "stream",
     "text": [
      "[[192  36]\n",
      " [  4  68]]\n"
     ]
    }
   ],
   "source": [
    "# Making the Confusion Matrix\n",
    "from sklearn.metrics import confusion_matrix\n",
    "cm = confusion_matrix(y_test, ct_pred)\n",
    "print(cm)"
   ]
  },
  {
   "cell_type": "code",
   "execution_count": 232,
   "metadata": {},
   "outputs": [
    {
     "data": {
      "text/plain": [
       "0.13333333333333333"
      ]
     },
     "execution_count": 232,
     "metadata": {},
     "output_type": "execute_result"
    }
   ],
   "source": [
    "Error_rate = (4+36)/(300)\n",
    "Error_rate"
   ]
  },
  {
   "cell_type": "code",
   "execution_count": 233,
   "metadata": {},
   "outputs": [
    {
     "data": {
      "text/plain": [
       "0.9444444444444444"
      ]
     },
     "execution_count": 233,
     "metadata": {},
     "output_type": "execute_result"
    }
   ],
   "source": [
    "Se = 68/(68+4)\n",
    "Se"
   ]
  },
  {
   "cell_type": "code",
   "execution_count": 234,
   "metadata": {},
   "outputs": [
    {
     "data": {
      "text/plain": [
       "0.8421052631578947"
      ]
     },
     "execution_count": 234,
     "metadata": {},
     "output_type": "execute_result"
    }
   ],
   "source": [
    "Sp = 192/(192+36)\n",
    "Sp"
   ]
  },
  {
   "cell_type": "code",
   "execution_count": 235,
   "metadata": {},
   "outputs": [
    {
     "name": "stdout",
     "output_type": "stream",
     "text": [
      "KNN: ROC AUC=0.900\n"
     ]
    },
    {
     "data": {
      "image/png": "[encoded data removed]",
      "text/plain": [
       "<Figure size 432x288 with 1 Axes>"
      ]
     },
     "metadata": {
      "needs_background": "light"
     },
     "output_type": "display_data"
    }
   ],
   "source": [
    "# отримуємо передбачення\n",
    "ct1_probs = ct1.predict_proba(X_test)\n",
    "# сохраняем вероятности только для положительного исхода\n",
    "ct1_probs = ct1_probs[:, 1]\n",
    "# рассчитываем ROC AUC\n",
    "ct1_auc = roc_auc_score(y_test, ct1_probs)\n",
    "print('KNN: ROC AUC=%.3f' % (ct1_auc))\n",
    "# рассчитываем roc-кривую\n",
    "fpr, tpr, treshold = roc_curve(y_test, ct1_probs)\n",
    "roc_auc = auc(fpr, tpr)\n",
    "# строим график\n",
    "plt.plot(fpr, tpr, color='darkorange',\n",
    "         label='KNN (area = %0.2f)' % roc_auc)\n",
    "plt.plot([0, 1], [0, 1], color='navy', linestyle='--')\n",
    "plt.xlim([0.0, 1.0])\n",
    "plt.ylim([0.0, 1.05])\n",
    "plt.xlabel('False Positive Rate')\n",
    "plt.ylabel('True Positive Rate')\n",
    "plt.title('ROC-крива')\n",
    "plt.legend(loc=\"lower right\")\n",
    "plt.show()"
   ]
  },
  {
   "cell_type": "markdown",
   "metadata": {},
   "source": [
    "# Forest"
   ]
  },
  {
   "cell_type": "code",
   "execution_count": 236,
   "metadata": {},
   "outputs": [],
   "source": [
    "def rf_best_n_estimator(bas_X_train, bas_X_test, y_train, y_test, n):\n",
    "    mse_train = []\n",
    "    mse_test = []\n",
    "    for i in n:\n",
    "        rf = RandomForestClassifier(n_estimators=i, random_state=10).fit(bas_X_train, y_train)\n",
    "        mse_train.append(mean_squared_error(y_train, rf.predict(bas_X_train)))\n",
    "        mse_test.append(mean_squared_error(y_test, rf.predict(bas_X_test)))\n",
    "    fig, ax = plt.subplots(figsize=(8, 4))\n",
    "    ax.plot(n, mse_train, alpha=0.5, color='blue', label='train')\n",
    "    ax.plot(n, mse_test, alpha=0.5, color='red', label='test')\n",
    "    ax.set_ylabel(\"MSE\")\n",
    "    ax.set_xlabel(\"N_estimators\")"
   ]
  },
  {
   "cell_type": "code",
   "execution_count": 237,
   "metadata": {},
   "outputs": [
    {
     "data": {
      "image/png": "[encoded data removed]",
      "text/plain": [
       "<Figure size 576x288 with 1 Axes>"
      ]
     },
     "metadata": {
      "needs_background": "light"
     },
     "output_type": "display_data"
    }
   ],
   "source": [
    "# The optimal number of trees \n",
    "from sklearn.ensemble import RandomForestClassifier    \n",
    "rf_best_n_estimator(bas_X_train, bas_X_test, y_train, y_test, [2, 5, 10, 15, 20])"
   ]
  },
  {
   "cell_type": "code",
   "execution_count": 276,
   "metadata": {},
   "outputs": [],
   "source": [
    "def rf_max_leaf_nodes(bas_X_train, bas_X_test, y_train, y_test, n):\n",
    "    mse_train = []\n",
    "    mse_test = []\n",
    "    for i in n:\n",
    "        rf = RandomForestClassifier(n_estimators=7, max_leaf_nodes =i, random_state=10).fit(bas_X_train, y_train)\n",
    "        mse_train.append(mean_squared_error(y_train, rf.predict(bas_X_train)))\n",
    "        mse_test.append(mean_squared_error(y_test, rf.predict(bas_X_test)))\n",
    "    fig, ax = plt.subplots(figsize=(8, 4))\n",
    "    ax.plot(n, mse_train, alpha=0.5, color='blue', label='train')\n",
    "    ax.plot(n, mse_test, alpha=0.5, color='red', label='test')\n",
    "    ax.set_ylabel(\"MSE\")\n",
    "    ax.set_xlabel(\"max_leaf_nodes\")"
   ]
  },
  {
   "cell_type": "code",
   "execution_count": 277,
   "metadata": {},
   "outputs": [
    {
     "data": {
      "image/png": "[encoded data removed]",
      "text/plain": [
       "<Figure size 576x288 with 1 Axes>"
      ]
     },
     "metadata": {
      "needs_background": "light"
     },
     "output_type": "display_data"
    }
   ],
   "source": [
    "# The optimal number of max_leaf_nodes\n",
    "rf_max_leaf_nodes(bas_X_train, bas_X_test, y_train, y_test, [2, 4, 6, 8, 10])"
   ]
  },
  {
   "cell_type": "code",
   "execution_count": 284,
   "metadata": {},
   "outputs": [],
   "source": [
    "# Fitting Random Forest to the Training set\n",
    "from sklearn.ensemble import RandomForestClassifier\n",
    "rf = RandomForestClassifier(n_estimators = 8, max_leaf_nodes = 5, random_state = 10).fit(bas_X_train, y_train)"
   ]
  },
  {
   "cell_type": "code",
   "execution_count": 285,
   "metadata": {},
   "outputs": [
    {
     "data": {
      "text/plain": [
       "0.8733333333333333"
      ]
     },
     "execution_count": 285,
     "metadata": {},
     "output_type": "execute_result"
    }
   ],
   "source": [
    "# Predicting the Test set results\n",
    "rf_pred = rf.predict(bas_X_test)\n",
    "rf_pred = (rf_pred > 0.5)\n",
    "rf.score(bas_X_test,y_test)"
   ]
  },
  {
   "cell_type": "code",
   "execution_count": 286,
   "metadata": {},
   "outputs": [
    {
     "name": "stdout",
     "output_type": "stream",
     "text": [
      "[[195  33]\n",
      " [  5  67]]\n"
     ]
    }
   ],
   "source": [
    "# Making the Confusion Matrix\n",
    "from sklearn.metrics import confusion_matrix\n",
    "cm = confusion_matrix(y_test, rf_pred)\n",
    "print(cm)"
   ]
  },
  {
   "cell_type": "code",
   "execution_count": 287,
   "metadata": {},
   "outputs": [
    {
     "data": {
      "text/plain": [
       "0.12666666666666668"
      ]
     },
     "execution_count": 287,
     "metadata": {},
     "output_type": "execute_result"
    }
   ],
   "source": [
    "Error_rate = (5+33)/(300)\n",
    "Error_rate"
   ]
  },
  {
   "cell_type": "code",
   "execution_count": 288,
   "metadata": {},
   "outputs": [
    {
     "data": {
      "text/plain": [
       "0.9305555555555556"
      ]
     },
     "execution_count": 288,
     "metadata": {},
     "output_type": "execute_result"
    }
   ],
   "source": [
    "Se = 67/(67+5)\n",
    "Se"
   ]
  },
  {
   "cell_type": "code",
   "execution_count": 289,
   "metadata": {},
   "outputs": [
    {
     "data": {
      "text/plain": [
       "0.8552631578947368"
      ]
     },
     "execution_count": 289,
     "metadata": {},
     "output_type": "execute_result"
    }
   ],
   "source": [
    "Sp = 195/(195+33)\n",
    "Sp"
   ]
  },
  {
   "cell_type": "code",
   "execution_count": 290,
   "metadata": {},
   "outputs": [
    {
     "name": "stdout",
     "output_type": "stream",
     "text": [
      "KNN: ROC AUC=0.914\n"
     ]
    },
    {
     "data": {
      "image/png": "[encoded data removed]",
      "text/plain": [
       "<Figure size 432x288 with 1 Axes>"
      ]
     },
     "metadata": {
      "needs_background": "light"
     },
     "output_type": "display_data"
    }
   ],
   "source": [
    "# отримуємо передбачення\n",
    "rf_probs = rf.predict_proba(bas_X_test)\n",
    "# сохраняем вероятности только для положительного исхода\n",
    "rf_probs = rf_probs[:, 1]\n",
    "# рассчитываем ROC AUC\n",
    "rf_auc = roc_auc_score(y_test, rf_probs)\n",
    "print('KNN: ROC AUC=%.3f' % (rf_auc))\n",
    "# рассчитываем roc-кривую\n",
    "fpr, tpr, treshold = roc_curve(y_test, rf_probs)\n",
    "roc_auc = auc(fpr, tpr)\n",
    "# строим график\n",
    "plt.plot(fpr, tpr, color='darkorange',\n",
    "         label='KNN (area = %0.2f)' % roc_auc)\n",
    "plt.plot([0, 1], [0, 1], color='navy', linestyle='--')\n",
    "plt.xlim([0.0, 1.0])\n",
    "plt.ylim([0.0, 1.05])\n",
    "plt.xlabel('False Positive Rate')\n",
    "plt.ylabel('True Positive Rate')\n",
    "plt.title('ROC-крива')\n",
    "plt.legend(loc=\"lower right\")\n",
    "plt.show()"
   ]
  },
  {
   "cell_type": "code",
   "execution_count": 291,
   "metadata": {},
   "outputs": [],
   "source": [
    "def rf_best_n_estimator(X_train, X_test, y_train, y_test, n):\n",
    "    mse_train = []\n",
    "    mse_test = []\n",
    "    for i in n:\n",
    "        rf = RandomForestClassifier(n_estimators=i, random_state=10).fit(X_train, y_train)\n",
    "        mse_train.append(mean_squared_error(y_train, rf.predict(X_train)))\n",
    "        mse_test.append(mean_squared_error(y_test, rf.predict(X_test)))\n",
    "    fig, ax = plt.subplots(figsize=(8, 4))\n",
    "    ax.plot(n, mse_train, alpha=0.5, color='blue', label='train')\n",
    "    ax.plot(n, mse_test, alpha=0.5, color='red', label='test')\n",
    "    ax.set_ylabel(\"MSE\")\n",
    "    ax.set_xlabel(\"N_estimators\")"
   ]
  },
  {
   "cell_type": "code",
   "execution_count": 292,
   "metadata": {},
   "outputs": [
    {
     "data": {
      "image/png": "[encoded data removed]",
      "text/plain": [
       "<Figure size 576x288 with 1 Axes>"
      ]
     },
     "metadata": {
      "needs_background": "light"
     },
     "output_type": "display_data"
    }
   ],
   "source": [
    "# The optimal number of trees \n",
    "from sklearn.ensemble import RandomForestClassifier    \n",
    "rf_best_n_estimator(X_train, X_test, y_train, y_test, [2, 5, 10, 15, 20])"
   ]
  },
  {
   "cell_type": "code",
   "execution_count": 318,
   "metadata": {},
   "outputs": [],
   "source": [
    "def rf_max_leaf_nodes(bas_X_train, bas_X_test, y_train, y_test, n):\n",
    "    mse_train = []\n",
    "    mse_test = []\n",
    "    for i in n:\n",
    "        rf = RandomForestClassifier(n_estimators=5, max_leaf_nodes =i, random_state=10).fit(X_train, y_train)\n",
    "        mse_train.append(mean_squared_error(y_train, rf.predict(X_train)))\n",
    "        mse_test.append(mean_squared_error(y_test, rf.predict(X_test)))\n",
    "    fig, ax = plt.subplots(figsize=(8, 4))\n",
    "    ax.plot(n, mse_train, alpha=0.5, color='blue', label='train')\n",
    "    ax.plot(n, mse_test, alpha=0.5, color='red', label='test')\n",
    "    ax.set_ylabel(\"MSE\")\n",
    "    ax.set_xlabel(\"max_leaf_nodes\")"
   ]
  },
  {
   "cell_type": "code",
   "execution_count": 319,
   "metadata": {},
   "outputs": [
    {
     "data": {
      "image/png": "[encoded data removed]",
      "text/plain": [
       "<Figure size 576x288 with 1 Axes>"
      ]
     },
     "metadata": {
      "needs_background": "light"
     },
     "output_type": "display_data"
    }
   ],
   "source": [
    "# The optimal number of max_leaf_nodes\n",
    "rf_max_leaf_nodes(X_train, X_test, y_train, y_test, [2, 4, 6, 8, 10])"
   ]
  },
  {
   "cell_type": "code",
   "execution_count": 332,
   "metadata": {},
   "outputs": [],
   "source": [
    "# Fitting Random Forest to the Training set\n",
    "from sklearn.ensemble import RandomForestClassifier\n",
    "rf = RandomForestClassifier(n_estimators = 5, max_leaf_nodes = 5, random_state = 10).fit(X_train, y_train)"
   ]
  },
  {
   "cell_type": "code",
   "execution_count": 333,
   "metadata": {},
   "outputs": [
    {
     "data": {
      "text/plain": [
       "0.8466666666666667"
      ]
     },
     "execution_count": 333,
     "metadata": {},
     "output_type": "execute_result"
    }
   ],
   "source": [
    "# Predicting the Test set results\n",
    "rf_pred = rf.predict(X_test)\n",
    "rf_pred = (rf_pred > 0.6)\n",
    "rf.score(X_test,y_test)"
   ]
  },
  {
   "cell_type": "code",
   "execution_count": 334,
   "metadata": {},
   "outputs": [
    {
     "name": "stdout",
     "output_type": "stream",
     "text": [
      "[[194  34]\n",
      " [ 12  60]]\n"
     ]
    }
   ],
   "source": [
    "# Making the Confusion Matrix\n",
    "from sklearn.metrics import confusion_matrix\n",
    "cm = confusion_matrix(y_test, rf_pred)\n",
    "print(cm)"
   ]
  },
  {
   "cell_type": "code",
   "execution_count": 335,
   "metadata": {},
   "outputs": [
    {
     "data": {
      "text/plain": [
       "0.15333333333333332"
      ]
     },
     "execution_count": 335,
     "metadata": {},
     "output_type": "execute_result"
    }
   ],
   "source": [
    "Error_rate = (12+34)/(300)\n",
    "Error_rate"
   ]
  },
  {
   "cell_type": "code",
   "execution_count": 336,
   "metadata": {},
   "outputs": [
    {
     "data": {
      "text/plain": [
       "0.8333333333333334"
      ]
     },
     "execution_count": 336,
     "metadata": {},
     "output_type": "execute_result"
    }
   ],
   "source": [
    "Se = 60/(60+12)\n",
    "Se"
   ]
  },
  {
   "cell_type": "code",
   "execution_count": 337,
   "metadata": {},
   "outputs": [
    {
     "data": {
      "text/plain": [
       "0.8508771929824561"
      ]
     },
     "execution_count": 337,
     "metadata": {},
     "output_type": "execute_result"
    }
   ],
   "source": [
    "Sp = 194/(194+34)\n",
    "Sp"
   ]
  },
  {
   "cell_type": "code",
   "execution_count": 338,
   "metadata": {},
   "outputs": [
    {
     "name": "stdout",
     "output_type": "stream",
     "text": [
      "KNN: ROC AUC=0.883\n"
     ]
    },
    {
     "data": {
      "image/png": "[encoded data removed]",
      "text/plain": [
       "<Figure size 432x288 with 1 Axes>"
      ]
     },
     "metadata": {
      "needs_background": "light"
     },
     "output_type": "display_data"
    }
   ],
   "source": [
    "# отримуємо передбачення\n",
    "rf_probs = rf.predict_proba(X_test)\n",
    "# сохраняем вероятности только для положительного исхода\n",
    "rf_probs = rf_probs[:, 1]\n",
    "# рассчитываем ROC AUC\n",
    "rf_auc = roc_auc_score(y_test, rf_probs)\n",
    "print('KNN: ROC AUC=%.3f' % (rf_auc))\n",
    "# рассчитываем roc-кривую\n",
    "fpr, tpr, treshold = roc_curve(y_test, rf_probs)\n",
    "roc_auc = auc(fpr, tpr)\n",
    "# строим график\n",
    "plt.plot(fpr, tpr, color='darkorange',\n",
    "         label='KNN (area = %0.2f)' % roc_auc)\n",
    "plt.plot([0, 1], [0, 1], color='navy', linestyle='--')\n",
    "plt.xlim([0.0, 1.0])\n",
    "plt.ylim([0.0, 1.05])\n",
    "plt.xlabel('False Positive Rate')\n",
    "plt.ylabel('True Positive Rate')\n",
    "plt.title('ROC-крива')\n",
    "plt.legend(loc=\"lower right\")\n",
    "plt.show()"
   ]
  },
  {
   "cell_type": "code",
   "execution_count": null,
   "metadata": {},
   "outputs": [],
   "source": []
  },
  {
   "cell_type": "code",
   "execution_count": null,
   "metadata": {},
   "outputs": [],
   "source": []
  },
  {
   "cell_type": "markdown",
   "metadata": {},
   "source": [
    "# Classification Neural Network"
   ]
  },
  {
   "cell_type": "code",
   "execution_count": 340,
   "metadata": {},
   "outputs": [
    {
     "name": "stderr",
     "output_type": "stream",
     "text": [
      "Using TensorFlow backend.\n"
     ]
    }
   ],
   "source": [
    "#Install Tensorflow\n",
    "#Install Keras\n",
    "# Importing the Keras libraries and packages\n",
    "import keras\n",
    "from keras.models import Sequential\n",
    "from keras.layers import Dense"
   ]
  },
  {
   "cell_type": "code",
   "execution_count": 356,
   "metadata": {},
   "outputs": [
    {
     "name": "stderr",
     "output_type": "stream",
     "text": [
      "C:\\Users\\User\\anaconda3\\envs\\tensorflow_env\\lib\\site-packages\\ipykernel_launcher.py:5: UserWarning: Update your `Dense` call to the Keras 2 API: `Dense(activation=\"linear\", input_dim=13, units=13, kernel_initializer=\"uniform\")`\n",
      "  \"\"\"\n",
      "C:\\Users\\User\\anaconda3\\envs\\tensorflow_env\\lib\\site-packages\\ipykernel_launcher.py:8: UserWarning: Update your `Dense` call to the Keras 2 API: `Dense(activation=\"sigmoid\", units=1, kernel_initializer=\"uniform\")`\n",
      "  \n"
     ]
    }
   ],
   "source": [
    "# Initialising the ANN\n",
    "cnn = Sequential()\n",
    "\n",
    "# Adding the input layer and the first hidden layer\n",
    "cnn.add(Dense(output_dim = 13, init = 'uniform', activation = 'linear', input_dim = 13))\n",
    "\n",
    "# Adding the output layer\n",
    "cnn.add(Dense(output_dim = 1, init = 'uniform', activation = 'sigmoid'))\n",
    "\n",
    "# Compiling the ANN\n",
    "cnn.compile(optimizer = 'adam', loss = 'binary_crossentropy', metrics = ['accuracy'])"
   ]
  },
  {
   "cell_type": "code",
   "execution_count": 357,
   "metadata": {},
   "outputs": [
    {
     "name": "stderr",
     "output_type": "stream",
     "text": [
      "C:\\Users\\User\\anaconda3\\envs\\tensorflow_env\\lib\\site-packages\\ipykernel_launcher.py:2: UserWarning: The `nb_epoch` argument in `fit` has been renamed `epochs`.\n",
      "  \n"
     ]
    },
    {
     "name": "stdout",
     "output_type": "stream",
     "text": [
      "Train on 1050 samples, validate on 300 samples\n",
      "Epoch 1/80\n",
      "1050/1050 [==============================] - 1s 501us/step - loss: 0.6314 - accuracy: 0.7790 - val_loss: 0.5566 - val_accuracy: 0.7333\n",
      "Epoch 2/80\n",
      "1050/1050 [==============================] - 0s 314us/step - loss: 0.4743 - accuracy: 0.8305 - val_loss: 0.4407 - val_accuracy: 0.8167\n",
      "Epoch 3/80\n",
      "1050/1050 [==============================] - 0s 313us/step - loss: 0.4128 - accuracy: 0.8638 - val_loss: 0.3851 - val_accuracy: 0.8400\n",
      "Epoch 4/80\n",
      "1050/1050 [==============================] - 0s 327us/step - loss: 0.3933 - accuracy: 0.8638 - val_loss: 0.3676 - val_accuracy: 0.8600\n",
      "Epoch 5/80\n",
      "1050/1050 [==============================] - 0s 366us/step - loss: 0.3878 - accuracy: 0.8629 - val_loss: 0.3601 - val_accuracy: 0.8600\n",
      "Epoch 6/80\n",
      "1050/1050 [==============================] - 0s 309us/step - loss: 0.3869 - accuracy: 0.8638 - val_loss: 0.3552 - val_accuracy: 0.8633\n",
      "Epoch 7/80\n",
      "1050/1050 [==============================] - 0s 311us/step - loss: 0.3850 - accuracy: 0.8638 - val_loss: 0.3552 - val_accuracy: 0.8667\n",
      "Epoch 8/80\n",
      "1050/1050 [==============================] - 0s 316us/step - loss: 0.3843 - accuracy: 0.8619 - val_loss: 0.3520 - val_accuracy: 0.8633\n",
      "Epoch 9/80\n",
      "1050/1050 [==============================] - 0s 330us/step - loss: 0.3848 - accuracy: 0.8638 - val_loss: 0.3528 - val_accuracy: 0.8633\n",
      "Epoch 10/80\n",
      "1050/1050 [==============================] - 0s 324us/step - loss: 0.3838 - accuracy: 0.8619 - val_loss: 0.3530 - val_accuracy: 0.8700\n",
      "Epoch 11/80\n",
      "1050/1050 [==============================] - 0s 356us/step - loss: 0.3841 - accuracy: 0.8638 - val_loss: 0.3533 - val_accuracy: 0.8700\n",
      "Epoch 12/80\n",
      "1050/1050 [==============================] - ETA: 0s - loss: 0.3898 - accuracy: 0.86 - 0s 315us/step - loss: 0.3832 - accuracy: 0.8638 - val_loss: 0.3538 - val_accuracy: 0.8700\n",
      "Epoch 13/80\n",
      "1050/1050 [==============================] - 0s 395us/step - loss: 0.3840 - accuracy: 0.8667 - val_loss: 0.3527 - val_accuracy: 0.8700\n",
      "Epoch 14/80\n",
      "1050/1050 [==============================] - 0s 379us/step - loss: 0.3837 - accuracy: 0.8648 - val_loss: 0.3529 - val_accuracy: 0.8700\n",
      "Epoch 15/80\n",
      "1050/1050 [==============================] - 0s 320us/step - loss: 0.3829 - accuracy: 0.8667 - val_loss: 0.3529 - val_accuracy: 0.8700\n",
      "Epoch 16/80\n",
      "1050/1050 [==============================] - 0s 346us/step - loss: 0.3833 - accuracy: 0.8648 - val_loss: 0.3509 - val_accuracy: 0.8733\n",
      "Epoch 17/80\n",
      "1050/1050 [==============================] - 0s 316us/step - loss: 0.3840 - accuracy: 0.8648 - val_loss: 0.3503 - val_accuracy: 0.8733\n",
      "Epoch 18/80\n",
      "1050/1050 [==============================] - 0s 414us/step - loss: 0.3825 - accuracy: 0.8648 - val_loss: 0.3517 - val_accuracy: 0.8733\n",
      "Epoch 19/80\n",
      "1050/1050 [==============================] - 0s 429us/step - loss: 0.3828 - accuracy: 0.8657 - val_loss: 0.3505 - val_accuracy: 0.8733\n",
      "Epoch 20/80\n",
      "1050/1050 [==============================] - 0s 432us/step - loss: 0.3820 - accuracy: 0.8676 - val_loss: 0.3508 - val_accuracy: 0.8733\n",
      "Epoch 21/80\n",
      "1050/1050 [==============================] - 0s 427us/step - loss: 0.3823 - accuracy: 0.8657 - val_loss: 0.3488 - val_accuracy: 0.8733\n",
      "Epoch 22/80\n",
      "1050/1050 [==============================] - 0s 449us/step - loss: 0.3824 - accuracy: 0.8657 - val_loss: 0.3507 - val_accuracy: 0.8733\n",
      "Epoch 23/80\n",
      "1050/1050 [==============================] - 0s 420us/step - loss: 0.3815 - accuracy: 0.8657 - val_loss: 0.3509 - val_accuracy: 0.8733\n",
      "Epoch 24/80\n",
      "1050/1050 [==============================] - 0s 451us/step - loss: 0.3822 - accuracy: 0.8676 - val_loss: 0.3510 - val_accuracy: 0.8733\n",
      "Epoch 25/80\n",
      "1050/1050 [==============================] - 0s 436us/step - loss: 0.3818 - accuracy: 0.8657 - val_loss: 0.3503 - val_accuracy: 0.8733\n",
      "Epoch 26/80\n",
      "1050/1050 [==============================] - 0s 406us/step - loss: 0.3819 - accuracy: 0.8676 - val_loss: 0.3491 - val_accuracy: 0.8733\n",
      "Epoch 27/80\n",
      "1050/1050 [==============================] - 0s 311us/step - loss: 0.3821 - accuracy: 0.8648 - val_loss: 0.3464 - val_accuracy: 0.8733\n",
      "Epoch 28/80\n",
      "1050/1050 [==============================] - 0s 381us/step - loss: 0.3818 - accuracy: 0.8667 - val_loss: 0.3475 - val_accuracy: 0.8733\n",
      "Epoch 29/80\n",
      "1050/1050 [==============================] - 0s 369us/step - loss: 0.3818 - accuracy: 0.8667 - val_loss: 0.3492 - val_accuracy: 0.8733\n",
      "Epoch 30/80\n",
      "1050/1050 [==============================] - 0s 336us/step - loss: 0.3824 - accuracy: 0.8648 - val_loss: 0.3516 - val_accuracy: 0.8733\n",
      "Epoch 31/80\n",
      "1050/1050 [==============================] - 0s 326us/step - loss: 0.3811 - accuracy: 0.8667 - val_loss: 0.3487 - val_accuracy: 0.8733\n",
      "Epoch 32/80\n",
      "1050/1050 [==============================] - 0s 357us/step - loss: 0.3816 - accuracy: 0.8676 - val_loss: 0.3484 - val_accuracy: 0.8733\n",
      "Epoch 33/80\n",
      "1050/1050 [==============================] - 0s 310us/step - loss: 0.3810 - accuracy: 0.8648 - val_loss: 0.3464 - val_accuracy: 0.8733\n",
      "Epoch 34/80\n",
      "1050/1050 [==============================] - 0s 302us/step - loss: 0.3808 - accuracy: 0.8657 - val_loss: 0.3472 - val_accuracy: 0.8733\n",
      "Epoch 35/80\n",
      "1050/1050 [==============================] - 0s 276us/step - loss: 0.3812 - accuracy: 0.8657 - val_loss: 0.3458 - val_accuracy: 0.8733\n",
      "Epoch 36/80\n",
      "1050/1050 [==============================] - 0s 299us/step - loss: 0.3819 - accuracy: 0.8676 - val_loss: 0.3451 - val_accuracy: 0.8733\n",
      "Epoch 37/80\n",
      "1050/1050 [==============================] - 0s 326us/step - loss: 0.3812 - accuracy: 0.8667 - val_loss: 0.3486 - val_accuracy: 0.8733\n",
      "Epoch 38/80\n",
      "1050/1050 [==============================] - 0s 312us/step - loss: 0.3807 - accuracy: 0.8648 - val_loss: 0.3458 - val_accuracy: 0.8733\n",
      "Epoch 39/80\n",
      "1050/1050 [==============================] - 0s 332us/step - loss: 0.3811 - accuracy: 0.8676 - val_loss: 0.3479 - val_accuracy: 0.8733\n",
      "Epoch 40/80\n",
      "1050/1050 [==============================] - 0s 315us/step - loss: 0.3811 - accuracy: 0.8667 - val_loss: 0.3463 - val_accuracy: 0.8733\n",
      "Epoch 41/80\n",
      "1050/1050 [==============================] - 0s 305us/step - loss: 0.3810 - accuracy: 0.8667 - val_loss: 0.3466 - val_accuracy: 0.8733\n",
      "Epoch 42/80\n",
      "1050/1050 [==============================] - 0s 332us/step - loss: 0.3807 - accuracy: 0.8667 - val_loss: 0.3484 - val_accuracy: 0.8733\n",
      "Epoch 43/80\n",
      "1050/1050 [==============================] - 0s 323us/step - loss: 0.3803 - accuracy: 0.8686 - val_loss: 0.3467 - val_accuracy: 0.8733\n",
      "Epoch 44/80\n",
      "1050/1050 [==============================] - 0s 324us/step - loss: 0.3811 - accuracy: 0.8676 - val_loss: 0.3464 - val_accuracy: 0.8733\n",
      "Epoch 45/80\n",
      "1050/1050 [==============================] - 0s 379us/step - loss: 0.3812 - accuracy: 0.8657 - val_loss: 0.3481 - val_accuracy: 0.8733\n",
      "Epoch 46/80\n",
      "1050/1050 [==============================] - 0s 329us/step - loss: 0.3806 - accuracy: 0.8667 - val_loss: 0.3495 - val_accuracy: 0.8733\n",
      "Epoch 47/80\n",
      "1050/1050 [==============================] - 0s 359us/step - loss: 0.3811 - accuracy: 0.8676 - val_loss: 0.3452 - val_accuracy: 0.8733\n",
      "Epoch 48/80\n",
      "1050/1050 [==============================] - 0s 339us/step - loss: 0.3805 - accuracy: 0.8667 - val_loss: 0.3465 - val_accuracy: 0.8733\n",
      "Epoch 49/80\n",
      "1050/1050 [==============================] - 0s 347us/step - loss: 0.3810 - accuracy: 0.8667 - val_loss: 0.3484 - val_accuracy: 0.8733\n",
      "Epoch 50/80\n",
      "1050/1050 [==============================] - 0s 332us/step - loss: 0.3808 - accuracy: 0.8667 - val_loss: 0.3465 - val_accuracy: 0.8767\n",
      "Epoch 51/80\n",
      "1050/1050 [==============================] - 0s 362us/step - loss: 0.3809 - accuracy: 0.8667 - val_loss: 0.3453 - val_accuracy: 0.8733\n",
      "Epoch 52/80\n",
      "1050/1050 [==============================] - 0s 421us/step - loss: 0.3807 - accuracy: 0.8667 - val_loss: 0.3482 - val_accuracy: 0.8700\n",
      "Epoch 53/80\n",
      "1050/1050 [==============================] - 0s 371us/step - loss: 0.3806 - accuracy: 0.8657 - val_loss: 0.3463 - val_accuracy: 0.8733\n",
      "Epoch 54/80\n",
      "1050/1050 [==============================] - 0s 342us/step - loss: 0.3807 - accuracy: 0.8676 - val_loss: 0.3495 - val_accuracy: 0.8700\n",
      "Epoch 55/80\n",
      "1050/1050 [==============================] - 0s 335us/step - loss: 0.3810 - accuracy: 0.8667 - val_loss: 0.3506 - val_accuracy: 0.8700\n",
      "Epoch 56/80\n",
      "1050/1050 [==============================] - 0s 319us/step - loss: 0.3805 - accuracy: 0.8657 - val_loss: 0.3499 - val_accuracy: 0.8700\n",
      "Epoch 57/80\n",
      "1050/1050 [==============================] - 0s 298us/step - loss: 0.3810 - accuracy: 0.8657 - val_loss: 0.3489 - val_accuracy: 0.8700\n",
      "Epoch 58/80\n",
      "1050/1050 [==============================] - 0s 301us/step - loss: 0.3813 - accuracy: 0.8676 - val_loss: 0.3456 - val_accuracy: 0.8733\n",
      "Epoch 59/80\n",
      "1050/1050 [==============================] - 0s 296us/step - loss: 0.3805 - accuracy: 0.8686 - val_loss: 0.3454 - val_accuracy: 0.8733\n",
      "Epoch 60/80\n",
      "1050/1050 [==============================] - 0s 351us/step - loss: 0.3806 - accuracy: 0.8657 - val_loss: 0.3476 - val_accuracy: 0.8700\n",
      "Epoch 61/80\n",
      "1050/1050 [==============================] - 0s 454us/step - loss: 0.3806 - accuracy: 0.8676 - val_loss: 0.3501 - val_accuracy: 0.8700\n",
      "Epoch 62/80\n",
      "1050/1050 [==============================] - 0s 460us/step - loss: 0.3811 - accuracy: 0.8657 - val_loss: 0.3470 - val_accuracy: 0.8700\n",
      "Epoch 63/80\n",
      "1050/1050 [==============================] - 0s 378us/step - loss: 0.3805 - accuracy: 0.8676 - val_loss: 0.3440 - val_accuracy: 0.8733\n",
      "Epoch 64/80\n",
      "1050/1050 [==============================] - 0s 442us/step - loss: 0.3806 - accuracy: 0.8686 - val_loss: 0.3443 - val_accuracy: 0.8733\n",
      "Epoch 65/80\n",
      "1050/1050 [==============================] - 0s 433us/step - loss: 0.3819 - accuracy: 0.8676 - val_loss: 0.3451 - val_accuracy: 0.8733\n",
      "Epoch 66/80\n",
      "1050/1050 [==============================] - 0s 447us/step - loss: 0.3809 - accuracy: 0.8667 - val_loss: 0.3450 - val_accuracy: 0.8733\n",
      "Epoch 67/80\n",
      "1050/1050 [==============================] - 1s 482us/step - loss: 0.3805 - accuracy: 0.8657 - val_loss: 0.3455 - val_accuracy: 0.8733\n",
      "Epoch 68/80\n",
      "1050/1050 [==============================] - 0s 443us/step - loss: 0.3807 - accuracy: 0.8657 - val_loss: 0.3460 - val_accuracy: 0.8733\n",
      "Epoch 69/80\n",
      "1050/1050 [==============================] - 0s 424us/step - loss: 0.3807 - accuracy: 0.8657 - val_loss: 0.3437 - val_accuracy: 0.8733\n",
      "Epoch 70/80\n",
      "1050/1050 [==============================] - 0s 354us/step - loss: 0.3805 - accuracy: 0.8676 - val_loss: 0.3452 - val_accuracy: 0.8733\n",
      "Epoch 71/80\n",
      "1050/1050 [==============================] - 0s 431us/step - loss: 0.3804 - accuracy: 0.8657 - val_loss: 0.3447 - val_accuracy: 0.8733\n",
      "Epoch 72/80\n",
      "1050/1050 [==============================] - 0s 380us/step - loss: 0.3803 - accuracy: 0.8676 - val_loss: 0.3461 - val_accuracy: 0.8700\n",
      "Epoch 73/80\n",
      "1050/1050 [==============================] - 0s 368us/step - loss: 0.3800 - accuracy: 0.8686 - val_loss: 0.3439 - val_accuracy: 0.8733\n",
      "Epoch 74/80\n",
      "1050/1050 [==============================] - 0s 385us/step - loss: 0.3813 - accuracy: 0.8695 - val_loss: 0.3478 - val_accuracy: 0.8733\n",
      "Epoch 75/80\n",
      "1050/1050 [==============================] - 0s 340us/step - loss: 0.3801 - accuracy: 0.8676 - val_loss: 0.3449 - val_accuracy: 0.8733\n",
      "Epoch 76/80\n",
      "1050/1050 [==============================] - 0s 368us/step - loss: 0.3807 - accuracy: 0.8676 - val_loss: 0.3459 - val_accuracy: 0.8700\n",
      "Epoch 77/80\n",
      "1050/1050 [==============================] - 0s 384us/step - loss: 0.3810 - accuracy: 0.8686 - val_loss: 0.3450 - val_accuracy: 0.8700\n",
      "Epoch 78/80\n",
      "1050/1050 [==============================] - 0s 333us/step - loss: 0.3813 - accuracy: 0.8676 - val_loss: 0.3452 - val_accuracy: 0.8700\n",
      "Epoch 79/80\n",
      "1050/1050 [==============================] - 0s 375us/step - loss: 0.3809 - accuracy: 0.8676 - val_loss: 0.3484 - val_accuracy: 0.8700\n",
      "Epoch 80/80\n",
      "1050/1050 [==============================] - 0s 375us/step - loss: 0.3802 - accuracy: 0.8667 - val_loss: 0.3470 - val_accuracy: 0.8700\n"
     ]
    }
   ],
   "source": [
    "# Fitting the ANN to the Training set\n",
    "history = cnn.fit(bas_X_train, y_train, batch_size = 8, nb_epoch = 80, validation_data=(bas_X_test, y_test))"
   ]
  },
  {
   "cell_type": "code",
   "execution_count": 358,
   "metadata": {},
   "outputs": [
    {
     "data": {
      "image/png": "[encoded data removed]",
      "text/plain": [
       "<Figure size 432x288 with 1 Axes>"
      ]
     },
     "metadata": {
      "needs_background": "light"
     },
     "output_type": "display_data"
    }
   ],
   "source": [
    "# Plotting loss & accuracy\n",
    "plt.figure()\n",
    "plt.plot(history.history['loss'])\n",
    "plt.plot(history.history['val_loss'])\n",
    "plt.title('model loss')\n",
    "plt.ylabel('loss')\n",
    "plt.xlabel('epoch')\n",
    "plt.legend(['train', 'test'], loc='best')\n",
    "plt.show()"
   ]
  },
  {
   "cell_type": "code",
   "execution_count": 369,
   "metadata": {},
   "outputs": [],
   "source": [
    "# Predicting the Test set results\n",
    "y_pred = cnn.predict(bas_X_test)\n",
    "y_pred = (y_pred > 0.59)"
   ]
  },
  {
   "cell_type": "code",
   "execution_count": 370,
   "metadata": {},
   "outputs": [
    {
     "name": "stdout",
     "output_type": "stream",
     "text": [
      "[[201  27]\n",
      " [  6  66]]\n"
     ]
    }
   ],
   "source": [
    "# Making the Confusion Matrix\n",
    "from sklearn.metrics import confusion_matrix\n",
    "cm = confusion_matrix(y_test, y_pred)\n",
    "print(cm)"
   ]
  },
  {
   "cell_type": "code",
   "execution_count": 399,
   "metadata": {},
   "outputs": [
    {
     "data": {
      "text/plain": [
       "0.89"
      ]
     },
     "execution_count": 399,
     "metadata": {},
     "output_type": "execute_result"
    }
   ],
   "source": [
    "Accurary_rate = (201+66)/(300)\n",
    "Accurary_rate"
   ]
  },
  {
   "cell_type": "code",
   "execution_count": 408,
   "metadata": {},
   "outputs": [
    {
     "data": {
      "text/plain": [
       "0.11"
      ]
     },
     "execution_count": 408,
     "metadata": {},
     "output_type": "execute_result"
    }
   ],
   "source": [
    "Error_rate = (27+6)/(300)\n",
    "Error_rate"
   ]
  },
  {
   "cell_type": "code",
   "execution_count": 371,
   "metadata": {},
   "outputs": [
    {
     "data": {
      "text/plain": [
       "0.9166666666666666"
      ]
     },
     "execution_count": 371,
     "metadata": {},
     "output_type": "execute_result"
    }
   ],
   "source": [
    "Se = 66/(66+6)\n",
    "Se"
   ]
  },
  {
   "cell_type": "code",
   "execution_count": 372,
   "metadata": {},
   "outputs": [
    {
     "data": {
      "text/plain": [
       "0.881578947368421"
      ]
     },
     "execution_count": 372,
     "metadata": {},
     "output_type": "execute_result"
    }
   ],
   "source": [
    "Sp = 201/(201+27)\n",
    "Sp"
   ]
  },
  {
   "cell_type": "code",
   "execution_count": 374,
   "metadata": {},
   "outputs": [
    {
     "name": "stdout",
     "output_type": "stream",
     "text": [
      "KNN: ROC AUC=0.940\n"
     ]
    },
    {
     "data": {
      "image/png": "[encoded data removed]",
      "text/plain": [
       "<Figure size 432x288 with 1 Axes>"
      ]
     },
     "metadata": {
      "needs_background": "light"
     },
     "output_type": "display_data"
    }
   ],
   "source": [
    "# отримуємо передбачення\n",
    "cnn_probs = cnn.predict_proba(bas_X_test)\n",
    "# сохраняем вероятности только для положительного исхода\n",
    "cnn_probs = cnn_probs[:, -1]\n",
    "# рассчитываем ROC AUC\n",
    "cnn_auc = roc_auc_score(y_test, cnn_probs)\n",
    "print('KNN: ROC AUC=%.3f' % (cnn_auc))\n",
    "# рассчитываем roc-кривую\n",
    "fpr, tpr, treshold = roc_curve(y_test, cnn_probs)\n",
    "roc_auc = auc(fpr, tpr)\n",
    "# строим график\n",
    "plt.plot(fpr, tpr, color='darkorange',\n",
    "         label='KNN (area = %0.2f)' % roc_auc)\n",
    "plt.plot([0, 1], [0, 1], color='navy', linestyle='--')\n",
    "plt.xlim([0.0, 1.0])\n",
    "plt.ylim([0.0, 1.05])\n",
    "plt.xlabel('False Positive Rate')\n",
    "plt.ylabel('True Positive Rate')\n",
    "plt.title('ROC-крива')\n",
    "plt.legend(loc=\"lower right\")\n",
    "plt.show()"
   ]
  },
  {
   "cell_type": "code",
   "execution_count": 376,
   "metadata": {},
   "outputs": [
    {
     "name": "stderr",
     "output_type": "stream",
     "text": [
      "C:\\Users\\User\\anaconda3\\envs\\tensorflow_env\\lib\\site-packages\\ipykernel_launcher.py:5: UserWarning: Update your `Dense` call to the Keras 2 API: `Dense(activation=\"linear\", input_dim=33, units=33, kernel_initializer=\"uniform\")`\n",
      "  \"\"\"\n",
      "C:\\Users\\User\\anaconda3\\envs\\tensorflow_env\\lib\\site-packages\\ipykernel_launcher.py:8: UserWarning: Update your `Dense` call to the Keras 2 API: `Dense(activation=\"sigmoid\", units=1, kernel_initializer=\"uniform\")`\n",
      "  \n"
     ]
    }
   ],
   "source": [
    "# Initialising the ANN\n",
    "cnn1 = Sequential()\n",
    "\n",
    "# Adding the input layer and the first hidden layer\n",
    "cnn1.add(Dense(output_dim = 33, init = 'uniform', activation = 'linear', input_dim = 33))\n",
    "\n",
    "# Adding the output layer\n",
    "cnn1.add(Dense(output_dim = 1, init = 'uniform', activation = 'sigmoid'))\n",
    "\n",
    "# Compiling the ANN\n",
    "cnn1.compile(optimizer = 'adam', loss = 'binary_crossentropy', metrics = ['accuracy'])"
   ]
  },
  {
   "cell_type": "code",
   "execution_count": 377,
   "metadata": {},
   "outputs": [
    {
     "name": "stderr",
     "output_type": "stream",
     "text": [
      "C:\\Users\\User\\anaconda3\\envs\\tensorflow_env\\lib\\site-packages\\ipykernel_launcher.py:2: UserWarning: The `nb_epoch` argument in `fit` has been renamed `epochs`.\n",
      "  \n"
     ]
    },
    {
     "name": "stdout",
     "output_type": "stream",
     "text": [
      "Train on 1050 samples, validate on 300 samples\n",
      "Epoch 1/100\n",
      "1050/1050 [==============================] - 1s 1ms/step - loss: 0.4916 - accuracy: 0.8133 - val_loss: 0.4051 - val_accuracy: 0.8433\n",
      "Epoch 2/100\n",
      "1050/1050 [==============================] - 1s 1ms/step - loss: 0.3967 - accuracy: 0.8571 - val_loss: 0.3586 - val_accuracy: 0.8600\n",
      "Epoch 3/100\n",
      "1050/1050 [==============================] - 1s 1ms/step - loss: 0.3871 - accuracy: 0.8590 - val_loss: 0.3678 - val_accuracy: 0.8667\n",
      "Epoch 4/100\n",
      "1050/1050 [==============================] - 2s 2ms/step - loss: 0.3926 - accuracy: 0.8657 - val_loss: 0.3551 - val_accuracy: 0.8667\n",
      "Epoch 5/100\n",
      "1050/1050 [==============================] - 2s 2ms/step - loss: 0.3877 - accuracy: 0.8686 - val_loss: 0.3474 - val_accuracy: 0.8700\n",
      "Epoch 6/100\n",
      "1050/1050 [==============================] - 1s 1ms/step - loss: 0.3878 - accuracy: 0.8629 - val_loss: 0.3538 - val_accuracy: 0.8733\n",
      "Epoch 7/100\n",
      "1050/1050 [==============================] - 1s 1ms/step - loss: 0.3899 - accuracy: 0.8638 - val_loss: 0.3536 - val_accuracy: 0.8700\n",
      "Epoch 8/100\n",
      "1050/1050 [==============================] - 1s 1ms/step - loss: 0.3871 - accuracy: 0.8610 - val_loss: 0.3533 - val_accuracy: 0.8700\n",
      "Epoch 9/100\n",
      "1050/1050 [==============================] - 1s 1ms/step - loss: 0.3859 - accuracy: 0.8590 - val_loss: 0.3500 - val_accuracy: 0.8700\n",
      "Epoch 10/100\n",
      "1050/1050 [==============================] - 1s 1ms/step - loss: 0.3874 - accuracy: 0.8600 - val_loss: 0.3591 - val_accuracy: 0.8667\n",
      "Epoch 11/100\n",
      "1050/1050 [==============================] - 1s 1ms/step - loss: 0.3863 - accuracy: 0.8610 - val_loss: 0.3600 - val_accuracy: 0.8667\n",
      "Epoch 12/100\n",
      "1050/1050 [==============================] - 1s 1ms/step - loss: 0.3858 - accuracy: 0.8676 - val_loss: 0.3490 - val_accuracy: 0.8633\n",
      "Epoch 13/100\n",
      "1050/1050 [==============================] - 1s 1ms/step - loss: 0.3832 - accuracy: 0.8600 - val_loss: 0.3550 - val_accuracy: 0.8700\n",
      "Epoch 14/100\n",
      "1050/1050 [==============================] - 2s 1ms/step - loss: 0.3861 - accuracy: 0.8657 - val_loss: 0.3546 - val_accuracy: 0.8667\n",
      "Epoch 15/100\n",
      "1050/1050 [==============================] - 2s 2ms/step - loss: 0.3842 - accuracy: 0.8638 - val_loss: 0.3472 - val_accuracy: 0.8667\n",
      "Epoch 16/100\n",
      "1050/1050 [==============================] - 2s 2ms/step - loss: 0.3838 - accuracy: 0.8590 - val_loss: 0.3429 - val_accuracy: 0.8667\n",
      "Epoch 17/100\n",
      "1050/1050 [==============================] - 1s 1ms/step - loss: 0.3854 - accuracy: 0.8610 - val_loss: 0.3464 - val_accuracy: 0.8700\n",
      "Epoch 18/100\n",
      "1050/1050 [==============================] - 1s 1ms/step - loss: 0.3830 - accuracy: 0.8600 - val_loss: 0.3498 - val_accuracy: 0.8667\n",
      "Epoch 19/100\n",
      "1050/1050 [==============================] - 1s 1ms/step - loss: 0.3800 - accuracy: 0.8648 - val_loss: 0.3549 - val_accuracy: 0.8667\n",
      "Epoch 20/100\n",
      "1050/1050 [==============================] - 1s 1ms/step - loss: 0.3845 - accuracy: 0.8648 - val_loss: 0.3538 - val_accuracy: 0.8733\n",
      "Epoch 21/100\n",
      "1050/1050 [==============================] - 1s 1ms/step - loss: 0.3834 - accuracy: 0.8619 - val_loss: 0.3506 - val_accuracy: 0.8700\n",
      "Epoch 22/100\n",
      "1050/1050 [==============================] - 1s 1ms/step - loss: 0.3840 - accuracy: 0.8638 - val_loss: 0.3514 - val_accuracy: 0.8700\n",
      "Epoch 23/100\n",
      "1050/1050 [==============================] - 1s 1ms/step - loss: 0.3834 - accuracy: 0.8686 - val_loss: 0.3499 - val_accuracy: 0.8700\n",
      "Epoch 24/100\n",
      "1050/1050 [==============================] - 1s 1ms/step - loss: 0.3832 - accuracy: 0.8667 - val_loss: 0.3527 - val_accuracy: 0.8700\n",
      "Epoch 25/100\n",
      "1050/1050 [==============================] - 2s 2ms/step - loss: 0.3819 - accuracy: 0.8667 - val_loss: 0.3472 - val_accuracy: 0.8733\n",
      "Epoch 26/100\n",
      "1050/1050 [==============================] - 2s 2ms/step - loss: 0.3838 - accuracy: 0.8695 - val_loss: 0.3464 - val_accuracy: 0.8700\n",
      "Epoch 27/100\n",
      "1050/1050 [==============================] - 2s 2ms/step - loss: 0.3822 - accuracy: 0.8657 - val_loss: 0.3383 - val_accuracy: 0.8700\n",
      "Epoch 28/100\n",
      "1050/1050 [==============================] - 2s 2ms/step - loss: 0.3807 - accuracy: 0.8667 - val_loss: 0.3497 - val_accuracy: 0.8667\n",
      "Epoch 29/100\n",
      "1050/1050 [==============================] - 2s 2ms/step - loss: 0.3829 - accuracy: 0.8667 - val_loss: 0.3450 - val_accuracy: 0.8700\n",
      "Epoch 30/100\n",
      "1050/1050 [==============================] - 1s 1ms/step - loss: 0.3829 - accuracy: 0.8619 - val_loss: 0.3492 - val_accuracy: 0.8667\n",
      "Epoch 31/100\n",
      "1050/1050 [==============================] - 1s 981us/step - loss: 0.3828 - accuracy: 0.8657 - val_loss: 0.3448 - val_accuracy: 0.8667\n",
      "Epoch 32/100\n",
      "1050/1050 [==============================] - 1s 968us/step - loss: 0.3817 - accuracy: 0.8629 - val_loss: 0.3432 - val_accuracy: 0.8733\n",
      "Epoch 33/100\n",
      "1050/1050 [==============================] - 1s 955us/step - loss: 0.3830 - accuracy: 0.8619 - val_loss: 0.3480 - val_accuracy: 0.8667\n",
      "Epoch 34/100\n",
      "1050/1050 [==============================] - 1s 968us/step - loss: 0.3830 - accuracy: 0.8648 - val_loss: 0.3472 - val_accuracy: 0.8700\n",
      "Epoch 35/100\n",
      "1050/1050 [==============================] - 1s 939us/step - loss: 0.3805 - accuracy: 0.8638 - val_loss: 0.3433 - val_accuracy: 0.8700\n",
      "Epoch 36/100\n",
      "1050/1050 [==============================] - 1s 1ms/step - loss: 0.3836 - accuracy: 0.8648 - val_loss: 0.3469 - val_accuracy: 0.8700\n",
      "Epoch 37/100\n",
      "1050/1050 [==============================] - 1s 1ms/step - loss: 0.3807 - accuracy: 0.8657 - val_loss: 0.3390 - val_accuracy: 0.8667\n",
      "Epoch 38/100\n",
      "1050/1050 [==============================] - 1s 1ms/step - loss: 0.3797 - accuracy: 0.8657 - val_loss: 0.3555 - val_accuracy: 0.8700\n",
      "Epoch 39/100\n",
      "1050/1050 [==============================] - 1s 1ms/step - loss: 0.3808 - accuracy: 0.8657 - val_loss: 0.3499 - val_accuracy: 0.8667\n",
      "Epoch 40/100\n",
      "1050/1050 [==============================] - 1s 939us/step - loss: 0.3816 - accuracy: 0.8667 - val_loss: 0.3482 - val_accuracy: 0.8700\n",
      "Epoch 41/100\n",
      "1050/1050 [==============================] - 1s 939us/step - loss: 0.3814 - accuracy: 0.8686 - val_loss: 0.3466 - val_accuracy: 0.8600\n",
      "Epoch 42/100\n",
      "1050/1050 [==============================] - 1s 940us/step - loss: 0.3822 - accuracy: 0.8600 - val_loss: 0.3482 - val_accuracy: 0.8633\n",
      "Epoch 43/100\n",
      "1050/1050 [==============================] - 1s 1ms/step - loss: 0.3805 - accuracy: 0.8648 - val_loss: 0.3412 - val_accuracy: 0.8633\n",
      "Epoch 44/100\n",
      "1050/1050 [==============================] - 1s 1ms/step - loss: 0.3815 - accuracy: 0.8629 - val_loss: 0.3492 - val_accuracy: 0.8700\n",
      "Epoch 45/100\n",
      "1050/1050 [==============================] - 1s 954us/step - loss: 0.3813 - accuracy: 0.8657 - val_loss: 0.3538 - val_accuracy: 0.8767\n",
      "Epoch 46/100\n",
      "1050/1050 [==============================] - 1s 1ms/step - loss: 0.3814 - accuracy: 0.8638 - val_loss: 0.3444 - val_accuracy: 0.8733\n",
      "Epoch 47/100\n",
      "1050/1050 [==============================] - 1s 954us/step - loss: 0.3806 - accuracy: 0.8638 - val_loss: 0.3522 - val_accuracy: 0.8633\n",
      "Epoch 48/100\n",
      "1050/1050 [==============================] - 1s 938us/step - loss: 0.3807 - accuracy: 0.8667 - val_loss: 0.3535 - val_accuracy: 0.8667\n",
      "Epoch 49/100\n",
      "1050/1050 [==============================] - 1s 953us/step - loss: 0.3822 - accuracy: 0.8648 - val_loss: 0.3518 - val_accuracy: 0.8700\n",
      "Epoch 50/100\n",
      "1050/1050 [==============================] - 1s 969us/step - loss: 0.3818 - accuracy: 0.8648 - val_loss: 0.3425 - val_accuracy: 0.8667\n",
      "Epoch 51/100\n",
      "1050/1050 [==============================] - 1s 1ms/step - loss: 0.3789 - accuracy: 0.8638 - val_loss: 0.3510 - val_accuracy: 0.8733\n",
      "Epoch 52/100\n",
      "1050/1050 [==============================] - 1s 1ms/step - loss: 0.3805 - accuracy: 0.8619 - val_loss: 0.3422 - val_accuracy: 0.8733\n",
      "Epoch 53/100\n",
      "1050/1050 [==============================] - 1s 1ms/step - loss: 0.3817 - accuracy: 0.8629 - val_loss: 0.3474 - val_accuracy: 0.8700\n",
      "Epoch 54/100\n",
      "1050/1050 [==============================] - 1s 939us/step - loss: 0.3808 - accuracy: 0.8686 - val_loss: 0.3446 - val_accuracy: 0.8700\n",
      "Epoch 55/100\n",
      "1050/1050 [==============================] - 1s 924us/step - loss: 0.3794 - accuracy: 0.8638 - val_loss: 0.3402 - val_accuracy: 0.8700\n",
      "Epoch 56/100\n",
      "1050/1050 [==============================] - 1s 939us/step - loss: 0.3808 - accuracy: 0.8667 - val_loss: 0.3434 - val_accuracy: 0.8733\n",
      "Epoch 57/100\n",
      "1050/1050 [==============================] - 1s 983us/step - loss: 0.3797 - accuracy: 0.8686 - val_loss: 0.3450 - val_accuracy: 0.8700\n",
      "Epoch 58/100\n",
      "1050/1050 [==============================] - 1s 938us/step - loss: 0.3803 - accuracy: 0.8676 - val_loss: 0.3435 - val_accuracy: 0.8733\n",
      "Epoch 59/100\n",
      "1050/1050 [==============================] - 1s 939us/step - loss: 0.3789 - accuracy: 0.8619 - val_loss: 0.3496 - val_accuracy: 0.8700\n",
      "Epoch 60/100\n",
      "1050/1050 [==============================] - 1s 953us/step - loss: 0.3796 - accuracy: 0.8629 - val_loss: 0.3447 - val_accuracy: 0.8700\n",
      "Epoch 61/100\n",
      "1050/1050 [==============================] - 1s 925us/step - loss: 0.3798 - accuracy: 0.8648 - val_loss: 0.3437 - val_accuracy: 0.8733\n",
      "Epoch 62/100\n",
      "1050/1050 [==============================] - 1s 938us/step - loss: 0.3788 - accuracy: 0.8705 - val_loss: 0.3543 - val_accuracy: 0.8700\n",
      "Epoch 63/100\n",
      "1050/1050 [==============================] - 1s 983us/step - loss: 0.3786 - accuracy: 0.8629 - val_loss: 0.3465 - val_accuracy: 0.8667\n",
      "Epoch 64/100\n",
      "1050/1050 [==============================] - 1s 939us/step - loss: 0.3800 - accuracy: 0.8733 - val_loss: 0.3490 - val_accuracy: 0.8700\n",
      "Epoch 65/100\n",
      "1050/1050 [==============================] - 1s 938us/step - loss: 0.3791 - accuracy: 0.8648 - val_loss: 0.3472 - val_accuracy: 0.8700\n",
      "Epoch 66/100\n",
      "1050/1050 [==============================] - 1s 1ms/step - loss: 0.3789 - accuracy: 0.8667 - val_loss: 0.3542 - val_accuracy: 0.8733\n",
      "Epoch 67/100\n",
      "1050/1050 [==============================] - 1s 1ms/step - loss: 0.3796 - accuracy: 0.8686 - val_loss: 0.3452 - val_accuracy: 0.8667\n",
      "Epoch 68/100\n",
      "1050/1050 [==============================] - 1s 1ms/step - loss: 0.3804 - accuracy: 0.8590 - val_loss: 0.3544 - val_accuracy: 0.8733\n",
      "Epoch 69/100\n",
      "1050/1050 [==============================] - 1s 931us/step - loss: 0.3789 - accuracy: 0.8714 - val_loss: 0.3422 - val_accuracy: 0.8700\n",
      "Epoch 70/100\n",
      "1050/1050 [==============================] - 1s 923us/step - loss: 0.3791 - accuracy: 0.8648 - val_loss: 0.3470 - val_accuracy: 0.8667\n",
      "Epoch 71/100\n",
      "1050/1050 [==============================] - 1s 924us/step - loss: 0.3793 - accuracy: 0.8695 - val_loss: 0.3435 - val_accuracy: 0.8700\n",
      "Epoch 72/100\n",
      "1050/1050 [==============================] - 1s 924us/step - loss: 0.3786 - accuracy: 0.8619 - val_loss: 0.3404 - val_accuracy: 0.8733\n",
      "Epoch 73/100\n",
      "1050/1050 [==============================] - 1s 953us/step - loss: 0.3788 - accuracy: 0.8695 - val_loss: 0.3371 - val_accuracy: 0.8700\n",
      "Epoch 74/100\n",
      "1050/1050 [==============================] - 1s 917us/step - loss: 0.3795 - accuracy: 0.8686 - val_loss: 0.3415 - val_accuracy: 0.8700\n",
      "Epoch 75/100\n",
      "1050/1050 [==============================] - 1s 939us/step - loss: 0.3785 - accuracy: 0.8619 - val_loss: 0.3407 - val_accuracy: 0.8700\n",
      "Epoch 76/100\n",
      "1050/1050 [==============================] - 1s 953us/step - loss: 0.3800 - accuracy: 0.8686 - val_loss: 0.3433 - val_accuracy: 0.8700\n",
      "Epoch 77/100\n",
      "1050/1050 [==============================] - 1s 923us/step - loss: 0.3759 - accuracy: 0.8667 - val_loss: 0.3503 - val_accuracy: 0.8767\n",
      "Epoch 78/100\n",
      "1050/1050 [==============================] - 1s 923us/step - loss: 0.3812 - accuracy: 0.8648 - val_loss: 0.3433 - val_accuracy: 0.8633\n",
      "Epoch 79/100\n",
      "1050/1050 [==============================] - 1s 954us/step - loss: 0.3784 - accuracy: 0.8648 - val_loss: 0.3542 - val_accuracy: 0.8733\n",
      "Epoch 80/100\n",
      "1050/1050 [==============================] - 1s 939us/step - loss: 0.3798 - accuracy: 0.8657 - val_loss: 0.3492 - val_accuracy: 0.8700\n",
      "Epoch 81/100\n",
      "1050/1050 [==============================] - 1s 1ms/step - loss: 0.3791 - accuracy: 0.8667 - val_loss: 0.3455 - val_accuracy: 0.8700\n",
      "Epoch 82/100\n",
      "1050/1050 [==============================] - 1s 1ms/step - loss: 0.3795 - accuracy: 0.8638 - val_loss: 0.3503 - val_accuracy: 0.8667\n",
      "Epoch 83/100\n",
      "1050/1050 [==============================] - 1s 1ms/step - loss: 0.3793 - accuracy: 0.8705 - val_loss: 0.3428 - val_accuracy: 0.8733\n",
      "Epoch 84/100\n",
      "1050/1050 [==============================] - 1s 968us/step - loss: 0.3796 - accuracy: 0.8667 - val_loss: 0.3447 - val_accuracy: 0.8700\n",
      "Epoch 85/100\n",
      "1050/1050 [==============================] - 1s 939us/step - loss: 0.3789 - accuracy: 0.8657 - val_loss: 0.3476 - val_accuracy: 0.8667\n",
      "Epoch 86/100\n",
      "1050/1050 [==============================] - 1s 938us/step - loss: 0.3779 - accuracy: 0.8648 - val_loss: 0.3529 - val_accuracy: 0.8700\n",
      "Epoch 87/100\n",
      "1050/1050 [==============================] - 1s 923us/step - loss: 0.3786 - accuracy: 0.8686 - val_loss: 0.3397 - val_accuracy: 0.8700\n",
      "Epoch 88/100\n",
      "1050/1050 [==============================] - 1s 932us/step - loss: 0.3787 - accuracy: 0.8667 - val_loss: 0.3464 - val_accuracy: 0.8700\n",
      "Epoch 89/100\n",
      "1050/1050 [==============================] - 1s 939us/step - loss: 0.3790 - accuracy: 0.8686 - val_loss: 0.3449 - val_accuracy: 0.8733\n",
      "Epoch 90/100\n",
      "1050/1050 [==============================] - 1s 939us/step - loss: 0.3788 - accuracy: 0.8676 - val_loss: 0.3432 - val_accuracy: 0.8667\n",
      "Epoch 91/100\n",
      "1050/1050 [==============================] - 1s 954us/step - loss: 0.3772 - accuracy: 0.8705 - val_loss: 0.3374 - val_accuracy: 0.8667\n",
      "Epoch 92/100\n",
      "1050/1050 [==============================] - 1s 946us/step - loss: 0.3780 - accuracy: 0.8714 - val_loss: 0.3353 - val_accuracy: 0.8667\n",
      "Epoch 93/100\n",
      "1050/1050 [==============================] - 1s 931us/step - loss: 0.3791 - accuracy: 0.8648 - val_loss: 0.3476 - val_accuracy: 0.8733\n",
      "Epoch 94/100\n",
      "1050/1050 [==============================] - 1s 925us/step - loss: 0.3788 - accuracy: 0.8705 - val_loss: 0.3462 - val_accuracy: 0.8700\n",
      "Epoch 95/100\n",
      "1050/1050 [==============================] - 1s 938us/step - loss: 0.3777 - accuracy: 0.8686 - val_loss: 0.3476 - val_accuracy: 0.8700\n",
      "Epoch 96/100\n",
      "1050/1050 [==============================] - 2s 2ms/step - loss: 0.3792 - accuracy: 0.8667 - val_loss: 0.3465 - val_accuracy: 0.8700\n",
      "Epoch 97/100\n",
      "1050/1050 [==============================] - 1s 1ms/step - loss: 0.3787 - accuracy: 0.8657 - val_loss: 0.3511 - val_accuracy: 0.8667\n",
      "Epoch 98/100\n",
      "1050/1050 [==============================] - 1s 1ms/step - loss: 0.3785 - accuracy: 0.8648 - val_loss: 0.3450 - val_accuracy: 0.8733\n",
      "Epoch 99/100\n",
      "1050/1050 [==============================] - 1s 983us/step - loss: 0.3778 - accuracy: 0.8686 - val_loss: 0.3453 - val_accuracy: 0.8700\n",
      "Epoch 100/100\n",
      "1050/1050 [==============================] - 1s 924us/step - loss: 0.3779 - accuracy: 0.8667 - val_loss: 0.3434 - val_accuracy: 0.8700\n"
     ]
    }
   ],
   "source": [
    "# Fitting the ANN to the Training set\n",
    "history = cnn1.fit(X_train, y_train, batch_size = 2, nb_epoch = 100, validation_data=(X_test, y_test))"
   ]
  },
  {
   "cell_type": "code",
   "execution_count": 378,
   "metadata": {},
   "outputs": [
    {
     "data": {
      "image/png": "[encoded data removed]",
      "text/plain": [
       "<Figure size 432x288 with 1 Axes>"
      ]
     },
     "metadata": {
      "needs_background": "light"
     },
     "output_type": "display_data"
    }
   ],
   "source": [
    "# Plotting loss & accuracy\n",
    "plt.figure()\n",
    "plt.plot(history.history['loss'])\n",
    "plt.plot(history.history['val_loss'])\n",
    "plt.title('model loss')\n",
    "plt.ylabel('loss')\n",
    "plt.xlabel('epoch')\n",
    "plt.legend(['train', 'test'], loc='best')\n",
    "plt.show()"
   ]
  },
  {
   "cell_type": "code",
   "execution_count": 391,
   "metadata": {},
   "outputs": [],
   "source": [
    "# Predicting the Test set results\n",
    "y_pred = cnn1.predict(X_test)\n",
    "y_pred = (y_pred > 0.44)"
   ]
  },
  {
   "cell_type": "code",
   "execution_count": 392,
   "metadata": {},
   "outputs": [
    {
     "name": "stdout",
     "output_type": "stream",
     "text": [
      "[[192  36]\n",
      " [  5  67]]\n"
     ]
    }
   ],
   "source": [
    "# Making the Confusion Matrix\n",
    "from sklearn.metrics import confusion_matrix\n",
    "cm = confusion_matrix(y_test, y_pred)\n",
    "print(cm)"
   ]
  },
  {
   "cell_type": "code",
   "execution_count": 394,
   "metadata": {},
   "outputs": [
    {
     "data": {
      "text/plain": [
       "0.8633333333333333"
      ]
     },
     "execution_count": 394,
     "metadata": {},
     "output_type": "execute_result"
    }
   ],
   "source": [
    "Accurary_rate = (192+67)/(300)\n",
    "Accurary_rate"
   ]
  },
  {
   "cell_type": "code",
   "execution_count": 395,
   "metadata": {},
   "outputs": [
    {
     "data": {
      "text/plain": [
       "0.13666666666666666"
      ]
     },
     "execution_count": 395,
     "metadata": {},
     "output_type": "execute_result"
    }
   ],
   "source": [
    "Error_rate = (36+5)/(300)\n",
    "Error_rate"
   ]
  },
  {
   "cell_type": "code",
   "execution_count": 396,
   "metadata": {},
   "outputs": [
    {
     "data": {
      "text/plain": [
       "0.9305555555555556"
      ]
     },
     "execution_count": 396,
     "metadata": {},
     "output_type": "execute_result"
    }
   ],
   "source": [
    "Se = 67/(67+5)\n",
    "Se"
   ]
  },
  {
   "cell_type": "code",
   "execution_count": 397,
   "metadata": {},
   "outputs": [
    {
     "data": {
      "text/plain": [
       "0.8421052631578947"
      ]
     },
     "execution_count": 397,
     "metadata": {},
     "output_type": "execute_result"
    }
   ],
   "source": [
    "Sp = 192/(192+36)\n",
    "Sp"
   ]
  },
  {
   "cell_type": "code",
   "execution_count": 398,
   "metadata": {},
   "outputs": [
    {
     "name": "stdout",
     "output_type": "stream",
     "text": [
      "KNN: ROC AUC=0.940\n"
     ]
    },
    {
     "data": {
      "image/png": "[encoded data removed]",
      "text/plain": [
       "<Figure size 432x288 with 1 Axes>"
      ]
     },
     "metadata": {
      "needs_background": "light"
     },
     "output_type": "display_data"
    }
   ],
   "source": [
    "# отримуємо передбачення\n",
    "cnn1_probs = cnn1.predict_proba(X_test)\n",
    "# сохраняем вероятности только для положительного исхода\n",
    "cnn1_probs = cnn1_probs[:, -1]\n",
    "# рассчитываем ROC AUC\n",
    "cnn1_auc = roc_auc_score(y_test, cnn1_probs)\n",
    "print('KNN: ROC AUC=%.3f' % (cnn1_auc))\n",
    "# рассчитываем roc-кривую\n",
    "fpr, tpr, treshold = roc_curve(y_test, cnn1_probs)\n",
    "roc_auc = auc(fpr, tpr)\n",
    "# строим график\n",
    "plt.plot(fpr, tpr, color='darkorange',\n",
    "         label='KNN (area = %0.2f)' % roc_auc)\n",
    "plt.plot([0, 1], [0, 1], color='navy', linestyle='--')\n",
    "plt.xlim([0.0, 1.0])\n",
    "plt.ylim([0.0, 1.05])\n",
    "plt.xlabel('False Positive Rate')\n",
    "plt.ylabel('True Positive Rate')\n",
    "plt.title('ROC-крива')\n",
    "plt.legend(loc=\"lower right\")\n",
    "plt.show()"
   ]
  }
 ],
 "metadata": {
  "kernelspec": {
   "display_name": "Python 3",
   "language": "python",
   "name": "python3"
  },
  "language_info": {
   "codemirror_mode": {
    "name": "ipython",
    "version": 3
   },
   "file_extension": ".py",
   "mimetype": "text/x-python",
   "name": "python",
   "nbconvert_exporter": "python",
   "pygments_lexer": "ipython3",
   "version": "3.6.12"
  }
 },
 "nbformat": 4,
 "nbformat_minor": 4
}
